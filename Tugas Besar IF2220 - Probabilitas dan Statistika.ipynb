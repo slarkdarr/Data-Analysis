{
 "cells": [
  {
   "cell_type": "code",
   "execution_count": 2,
   "id": "737af754",
   "metadata": {
    "scrolled": true
   },
   "outputs": [],
   "source": [
    "import pandas as pd\n",
    "import matplotlib.pyplot as plt\n",
    "from scipy.stats import shapiro\n",
    "gandum_df = pd.read_csv(\"Gandum.csv\", names=['id','Daerah','SumbuUtama','SumbuKecil','Keunikan','AreaBulatan','Diameter','KadarAir','Keliling','Bulatan','Ransum','Kelas'])"
   ]
  },
  {
   "cell_type": "code",
   "execution_count": 16,
   "id": "efe52abe",
   "metadata": {},
   "outputs": [
    {
     "data": {
      "text/plain": [
       "id              250.500000\n",
       "Daerah         4801.246000\n",
       "SumbuUtama      116.045171\n",
       "SumbuKecil       53.715246\n",
       "Keunikan          0.878764\n",
       "AreaBulatan    4937.048000\n",
       "Diameter         77.771158\n",
       "KadarAir          0.648372\n",
       "Keliling        281.479722\n",
       "Bulatan           0.761737\n",
       "Ransum            2.150915\n",
       "Kelas             1.502000\n",
       "dtype: float64"
      ]
     },
     "execution_count": 16,
     "metadata": {},
     "output_type": "execute_result"
    }
   ],
   "source": [
    "# 1.  Deskripsi statistik dari semua kolom pada data Gandum yang bersifat numerik\n",
    "# 1.1 Mean\n",
    "gandum_df.mean()"
   ]
  },
  {
   "cell_type": "code",
   "execution_count": 17,
   "id": "555acc91",
   "metadata": {},
   "outputs": [
    {
     "data": {
      "text/plain": [
       "id              250.500000\n",
       "Daerah         4735.000000\n",
       "SumbuUtama      115.405140\n",
       "SumbuKecil       53.731199\n",
       "Keunikan          0.890045\n",
       "AreaBulatan    4857.000000\n",
       "Diameter         77.645277\n",
       "KadarAir          0.626117\n",
       "Keliling        280.045500\n",
       "Bulatan           0.761288\n",
       "Ransum            2.193599\n",
       "Kelas             2.000000\n",
       "dtype: float64"
      ]
     },
     "execution_count": 17,
     "metadata": {},
     "output_type": "execute_result"
    }
   ],
   "source": [
    "# 1.2 Median\n",
    "gandum_df.median()"
   ]
  },
  {
   "cell_type": "code",
   "execution_count": 18,
   "id": "532f85d9",
   "metadata": {},
   "outputs": [
    {
     "data": {
      "text/html": [
       "<div>\n",
       "<style scoped>\n",
       "    .dataframe tbody tr th:only-of-type {\n",
       "        vertical-align: middle;\n",
       "    }\n",
       "\n",
       "    .dataframe tbody tr th {\n",
       "        vertical-align: top;\n",
       "    }\n",
       "\n",
       "    .dataframe thead th {\n",
       "        text-align: right;\n",
       "    }\n",
       "</style>\n",
       "<table border=\"1\" class=\"dataframe\">\n",
       "  <thead>\n",
       "    <tr style=\"text-align: right;\">\n",
       "      <th></th>\n",
       "      <th>id</th>\n",
       "      <th>Daerah</th>\n",
       "      <th>SumbuUtama</th>\n",
       "      <th>SumbuKecil</th>\n",
       "      <th>Keunikan</th>\n",
       "      <th>AreaBulatan</th>\n",
       "      <th>Diameter</th>\n",
       "      <th>KadarAir</th>\n",
       "      <th>Keliling</th>\n",
       "      <th>Bulatan</th>\n",
       "      <th>Ransum</th>\n",
       "      <th>Kelas</th>\n",
       "    </tr>\n",
       "  </thead>\n",
       "  <tbody>\n",
       "    <tr>\n",
       "      <th>0</th>\n",
       "      <td>1</td>\n",
       "      <td>3992.0</td>\n",
       "      <td>74.133114</td>\n",
       "      <td>39.906517</td>\n",
       "      <td>0.719916</td>\n",
       "      <td>3802.0</td>\n",
       "      <td>71.293564</td>\n",
       "      <td>0.735849</td>\n",
       "      <td>197.015</td>\n",
       "      <td>0.174590</td>\n",
       "      <td>1.440796</td>\n",
       "      <td>2.0</td>\n",
       "    </tr>\n",
       "    <tr>\n",
       "      <th>1</th>\n",
       "      <td>2</td>\n",
       "      <td>4881.0</td>\n",
       "      <td>74.364021</td>\n",
       "      <td>41.436419</td>\n",
       "      <td>0.725553</td>\n",
       "      <td>4913.0</td>\n",
       "      <td>78.833256</td>\n",
       "      <td>0.824405</td>\n",
       "      <td>200.587</td>\n",
       "      <td>0.261297</td>\n",
       "      <td>1.453137</td>\n",
       "      <td>NaN</td>\n",
       "    </tr>\n",
       "    <tr>\n",
       "      <th>2</th>\n",
       "      <td>3</td>\n",
       "      <td>5642.0</td>\n",
       "      <td>74.691881</td>\n",
       "      <td>42.871879</td>\n",
       "      <td>0.731211</td>\n",
       "      <td>NaN</td>\n",
       "      <td>84.756224</td>\n",
       "      <td>NaN</td>\n",
       "      <td>202.456</td>\n",
       "      <td>0.299298</td>\n",
       "      <td>1.465950</td>\n",
       "      <td>NaN</td>\n",
       "    </tr>\n",
       "    <tr>\n",
       "      <th>3</th>\n",
       "      <td>4</td>\n",
       "      <td>6083.0</td>\n",
       "      <td>76.293164</td>\n",
       "      <td>43.284979</td>\n",
       "      <td>0.738639</td>\n",
       "      <td>NaN</td>\n",
       "      <td>88.006342</td>\n",
       "      <td>NaN</td>\n",
       "      <td>207.325</td>\n",
       "      <td>0.589146</td>\n",
       "      <td>1.483456</td>\n",
       "      <td>NaN</td>\n",
       "    </tr>\n",
       "    <tr>\n",
       "      <th>4</th>\n",
       "      <td>5</td>\n",
       "      <td>NaN</td>\n",
       "      <td>76.789043</td>\n",
       "      <td>44.119355</td>\n",
       "      <td>0.749282</td>\n",
       "      <td>NaN</td>\n",
       "      <td>NaN</td>\n",
       "      <td>NaN</td>\n",
       "      <td>207.697</td>\n",
       "      <td>0.603807</td>\n",
       "      <td>1.510000</td>\n",
       "      <td>NaN</td>\n",
       "    </tr>\n",
       "    <tr>\n",
       "      <th>...</th>\n",
       "      <td>...</td>\n",
       "      <td>...</td>\n",
       "      <td>...</td>\n",
       "      <td>...</td>\n",
       "      <td>...</td>\n",
       "      <td>...</td>\n",
       "      <td>...</td>\n",
       "      <td>...</td>\n",
       "      <td>...</td>\n",
       "      <td>...</td>\n",
       "      <td>...</td>\n",
       "      <td>...</td>\n",
       "    </tr>\n",
       "    <tr>\n",
       "      <th>495</th>\n",
       "      <td>496</td>\n",
       "      <td>NaN</td>\n",
       "      <td>152.068440</td>\n",
       "      <td>63.322854</td>\n",
       "      <td>0.913724</td>\n",
       "      <td>NaN</td>\n",
       "      <td>NaN</td>\n",
       "      <td>NaN</td>\n",
       "      <td>375.651</td>\n",
       "      <td>0.872417</td>\n",
       "      <td>2.461017</td>\n",
       "      <td>NaN</td>\n",
       "    </tr>\n",
       "    <tr>\n",
       "      <th>496</th>\n",
       "      <td>497</td>\n",
       "      <td>NaN</td>\n",
       "      <td>152.113491</td>\n",
       "      <td>63.762307</td>\n",
       "      <td>0.913760</td>\n",
       "      <td>NaN</td>\n",
       "      <td>NaN</td>\n",
       "      <td>NaN</td>\n",
       "      <td>390.125</td>\n",
       "      <td>0.874243</td>\n",
       "      <td>2.461510</td>\n",
       "      <td>NaN</td>\n",
       "    </tr>\n",
       "    <tr>\n",
       "      <th>497</th>\n",
       "      <td>498</td>\n",
       "      <td>NaN</td>\n",
       "      <td>153.583387</td>\n",
       "      <td>64.012769</td>\n",
       "      <td>0.913891</td>\n",
       "      <td>NaN</td>\n",
       "      <td>NaN</td>\n",
       "      <td>NaN</td>\n",
       "      <td>434.235</td>\n",
       "      <td>0.874743</td>\n",
       "      <td>2.463297</td>\n",
       "      <td>NaN</td>\n",
       "    </tr>\n",
       "    <tr>\n",
       "      <th>498</th>\n",
       "      <td>499</td>\n",
       "      <td>NaN</td>\n",
       "      <td>227.105462</td>\n",
       "      <td>65.738475</td>\n",
       "      <td>0.913909</td>\n",
       "      <td>NaN</td>\n",
       "      <td>NaN</td>\n",
       "      <td>NaN</td>\n",
       "      <td>448.305</td>\n",
       "      <td>0.891706</td>\n",
       "      <td>2.463546</td>\n",
       "      <td>NaN</td>\n",
       "    </tr>\n",
       "    <tr>\n",
       "      <th>499</th>\n",
       "      <td>500</td>\n",
       "      <td>NaN</td>\n",
       "      <td>227.928583</td>\n",
       "      <td>68.977700</td>\n",
       "      <td>0.914001</td>\n",
       "      <td>NaN</td>\n",
       "      <td>NaN</td>\n",
       "      <td>NaN</td>\n",
       "      <td>488.837</td>\n",
       "      <td>0.904748</td>\n",
       "      <td>2.464809</td>\n",
       "      <td>NaN</td>\n",
       "    </tr>\n",
       "  </tbody>\n",
       "</table>\n",
       "<p>500 rows × 12 columns</p>\n",
       "</div>"
      ],
      "text/plain": [
       "      id  Daerah  SumbuUtama  SumbuKecil  Keunikan  AreaBulatan   Diameter  \\\n",
       "0      1  3992.0   74.133114   39.906517  0.719916       3802.0  71.293564   \n",
       "1      2  4881.0   74.364021   41.436419  0.725553       4913.0  78.833256   \n",
       "2      3  5642.0   74.691881   42.871879  0.731211          NaN  84.756224   \n",
       "3      4  6083.0   76.293164   43.284979  0.738639          NaN  88.006342   \n",
       "4      5     NaN   76.789043   44.119355  0.749282          NaN        NaN   \n",
       "..   ...     ...         ...         ...       ...          ...        ...   \n",
       "495  496     NaN  152.068440   63.322854  0.913724          NaN        NaN   \n",
       "496  497     NaN  152.113491   63.762307  0.913760          NaN        NaN   \n",
       "497  498     NaN  153.583387   64.012769  0.913891          NaN        NaN   \n",
       "498  499     NaN  227.105462   65.738475  0.913909          NaN        NaN   \n",
       "499  500     NaN  227.928583   68.977700  0.914001          NaN        NaN   \n",
       "\n",
       "     KadarAir  Keliling   Bulatan    Ransum  Kelas  \n",
       "0    0.735849   197.015  0.174590  1.440796    2.0  \n",
       "1    0.824405   200.587  0.261297  1.453137    NaN  \n",
       "2         NaN   202.456  0.299298  1.465950    NaN  \n",
       "3         NaN   207.325  0.589146  1.483456    NaN  \n",
       "4         NaN   207.697  0.603807  1.510000    NaN  \n",
       "..        ...       ...       ...       ...    ...  \n",
       "495       NaN   375.651  0.872417  2.461017    NaN  \n",
       "496       NaN   390.125  0.874243  2.461510    NaN  \n",
       "497       NaN   434.235  0.874743  2.463297    NaN  \n",
       "498       NaN   448.305  0.891706  2.463546    NaN  \n",
       "499       NaN   488.837  0.904748  2.464809    NaN  \n",
       "\n",
       "[500 rows x 12 columns]"
      ]
     },
     "execution_count": 18,
     "metadata": {},
     "output_type": "execute_result"
    }
   ],
   "source": [
    "# 1.3 Modus\n",
    "gandum_df.mode()"
   ]
  },
  {
   "cell_type": "code",
   "execution_count": 19,
   "id": "d5ceed28",
   "metadata": {},
   "outputs": [
    {
     "data": {
      "text/plain": [
       "id              144.481833\n",
       "Daerah          986.395491\n",
       "SumbuUtama       18.282626\n",
       "SumbuKecil        4.071075\n",
       "Keunikan          0.036586\n",
       "AreaBulatan    1011.696255\n",
       "Diameter          8.056867\n",
       "KadarAir          0.094367\n",
       "Keliling         37.335402\n",
       "Bulatan           0.061702\n",
       "Ransum            0.249767\n",
       "Kelas             0.500497\n",
       "dtype: float64"
      ]
     },
     "execution_count": 19,
     "metadata": {},
     "output_type": "execute_result"
    }
   ],
   "source": [
    "# 1.4 Standar Deviasi/Simpangan Baku\n",
    "gandum_df.std()"
   ]
  },
  {
   "cell_type": "code",
   "execution_count": 20,
   "id": "e3e15547",
   "metadata": {},
   "outputs": [
    {
     "data": {
      "text/plain": [
       "id             2.087500e+04\n",
       "Daerah         9.729761e+05\n",
       "SumbuUtama     3.342544e+02\n",
       "SumbuKecil     1.657365e+01\n",
       "Keunikan       1.338528e-03\n",
       "AreaBulatan    1.023529e+06\n",
       "Diameter       6.491311e+01\n",
       "KadarAir       8.905149e-03\n",
       "Keliling       1.393932e+03\n",
       "Bulatan        3.807194e-03\n",
       "Ransum         6.238350e-02\n",
       "Kelas          2.504970e-01\n",
       "dtype: float64"
      ]
     },
     "execution_count": 20,
     "metadata": {},
     "output_type": "execute_result"
    }
   ],
   "source": [
    "# 1.5 Variansi\n",
    "gandum_df.var()"
   ]
  },
  {
   "cell_type": "code",
   "execution_count": 21,
   "id": "bb6c67f2",
   "metadata": {},
   "outputs": [
    {
     "data": {
      "text/plain": [
       "id              499.000000\n",
       "Daerah         4931.000000\n",
       "SumbuUtama      153.795469\n",
       "SumbuKecil       29.071182\n",
       "Keunikan          0.194085\n",
       "AreaBulatan    5141.000000\n",
       "Diameter         40.747172\n",
       "KadarAir          0.468972\n",
       "Keliling        291.822000\n",
       "Bulatan           0.730158\n",
       "Ransum            1.024013\n",
       "Kelas             1.000000\n",
       "dtype: float64"
      ]
     },
     "execution_count": 21,
     "metadata": {},
     "output_type": "execute_result"
    }
   ],
   "source": [
    "# 1.6 Range/Jangkauan\n",
    "u = gandum_df.select_dtypes(include=['int64','float64'])\n",
    "u.max() - u.min()"
   ]
  },
  {
   "cell_type": "code",
   "execution_count": 22,
   "id": "e4cfccc0",
   "metadata": {},
   "outputs": [
    {
     "data": {
      "text/plain": [
       "id                1.000000\n",
       "Daerah         2522.000000\n",
       "SumbuUtama       74.133114\n",
       "SumbuKecil       39.906517\n",
       "Keunikan          0.719916\n",
       "AreaBulatan    2579.000000\n",
       "Diameter         56.666658\n",
       "KadarAir          0.409927\n",
       "Keliling        197.015000\n",
       "Bulatan           0.174590\n",
       "Ransum            1.440796\n",
       "Kelas             1.000000\n",
       "dtype: float64"
      ]
     },
     "execution_count": 22,
     "metadata": {},
     "output_type": "execute_result"
    }
   ],
   "source": [
    "# 1.7 Nilai Minimum\n",
    "gandum_df.min()"
   ]
  },
  {
   "cell_type": "code",
   "execution_count": 23,
   "id": "8c04e3d5",
   "metadata": {},
   "outputs": [
    {
     "data": {
      "text/plain": [
       "id              500.000000\n",
       "Daerah         7453.000000\n",
       "SumbuUtama      227.928583\n",
       "SumbuKecil       68.977700\n",
       "Keunikan          0.914001\n",
       "AreaBulatan    7720.000000\n",
       "Diameter         97.413830\n",
       "KadarAir          0.878899\n",
       "Keliling        488.837000\n",
       "Bulatan           0.904748\n",
       "Ransum            2.464809\n",
       "Kelas             2.000000\n",
       "dtype: float64"
      ]
     },
     "execution_count": 23,
     "metadata": {},
     "output_type": "execute_result"
    }
   ],
   "source": [
    "# 1.8 Nilai Maksimum\n",
    "gandum_df.max()"
   ]
  },
  {
   "cell_type": "code",
   "execution_count": 24,
   "id": "3215ea51",
   "metadata": {},
   "outputs": [
    {
     "data": {
      "text/html": [
       "<div>\n",
       "<style scoped>\n",
       "    .dataframe tbody tr th:only-of-type {\n",
       "        vertical-align: middle;\n",
       "    }\n",
       "\n",
       "    .dataframe tbody tr th {\n",
       "        vertical-align: top;\n",
       "    }\n",
       "\n",
       "    .dataframe thead th {\n",
       "        text-align: right;\n",
       "    }\n",
       "</style>\n",
       "<table border=\"1\" class=\"dataframe\">\n",
       "  <thead>\n",
       "    <tr style=\"text-align: right;\">\n",
       "      <th></th>\n",
       "      <th>id</th>\n",
       "      <th>Daerah</th>\n",
       "      <th>SumbuUtama</th>\n",
       "      <th>SumbuKecil</th>\n",
       "      <th>Keunikan</th>\n",
       "      <th>AreaBulatan</th>\n",
       "      <th>Diameter</th>\n",
       "      <th>KadarAir</th>\n",
       "      <th>Keliling</th>\n",
       "      <th>Bulatan</th>\n",
       "      <th>Ransum</th>\n",
       "      <th>Kelas</th>\n",
       "    </tr>\n",
       "  </thead>\n",
       "  <tbody>\n",
       "    <tr>\n",
       "      <th>0.25</th>\n",
       "      <td>125.75</td>\n",
       "      <td>4042.75</td>\n",
       "      <td>104.116098</td>\n",
       "      <td>51.193576</td>\n",
       "      <td>0.863676</td>\n",
       "      <td>4170.25</td>\n",
       "      <td>71.745308</td>\n",
       "      <td>0.572632</td>\n",
       "      <td>255.8830</td>\n",
       "      <td>0.731991</td>\n",
       "      <td>1.983939</td>\n",
       "      <td>1.0</td>\n",
       "    </tr>\n",
       "    <tr>\n",
       "      <th>0.50</th>\n",
       "      <td>250.50</td>\n",
       "      <td>4735.00</td>\n",
       "      <td>115.405140</td>\n",
       "      <td>53.731199</td>\n",
       "      <td>0.890045</td>\n",
       "      <td>4857.00</td>\n",
       "      <td>77.645277</td>\n",
       "      <td>0.626117</td>\n",
       "      <td>280.0455</td>\n",
       "      <td>0.761288</td>\n",
       "      <td>2.193599</td>\n",
       "      <td>2.0</td>\n",
       "    </tr>\n",
       "    <tr>\n",
       "      <th>0.75</th>\n",
       "      <td>375.25</td>\n",
       "      <td>5495.50</td>\n",
       "      <td>129.046792</td>\n",
       "      <td>56.325158</td>\n",
       "      <td>0.907578</td>\n",
       "      <td>5654.25</td>\n",
       "      <td>83.648598</td>\n",
       "      <td>0.726633</td>\n",
       "      <td>306.0625</td>\n",
       "      <td>0.796361</td>\n",
       "      <td>2.381612</td>\n",
       "      <td>2.0</td>\n",
       "    </tr>\n",
       "  </tbody>\n",
       "</table>\n",
       "</div>"
      ],
      "text/plain": [
       "          id   Daerah  SumbuUtama  SumbuKecil  Keunikan  AreaBulatan  \\\n",
       "0.25  125.75  4042.75  104.116098   51.193576  0.863676      4170.25   \n",
       "0.50  250.50  4735.00  115.405140   53.731199  0.890045      4857.00   \n",
       "0.75  375.25  5495.50  129.046792   56.325158  0.907578      5654.25   \n",
       "\n",
       "       Diameter  KadarAir  Keliling   Bulatan    Ransum  Kelas  \n",
       "0.25  71.745308  0.572632  255.8830  0.731991  1.983939    1.0  \n",
       "0.50  77.645277  0.626117  280.0455  0.761288  2.193599    2.0  \n",
       "0.75  83.648598  0.726633  306.0625  0.796361  2.381612    2.0  "
      ]
     },
     "execution_count": 24,
     "metadata": {},
     "output_type": "execute_result"
    }
   ],
   "source": [
    "# 1.9 Kuartil\n",
    "gandum_df.quantile([.25, .5, .75])"
   ]
  },
  {
   "cell_type": "code",
   "execution_count": 25,
   "id": "37a04059",
   "metadata": {},
   "outputs": [
    {
     "data": {
      "text/plain": [
       "id              249.500000\n",
       "Daerah         1452.750000\n",
       "SumbuUtama       24.930694\n",
       "SumbuKecil        5.131582\n",
       "Keunikan          0.043902\n",
       "AreaBulatan    1484.000000\n",
       "Diameter         11.903290\n",
       "KadarAir          0.154001\n",
       "Keliling         50.179500\n",
       "Bulatan           0.064370\n",
       "Ransum            0.397673\n",
       "Kelas             1.000000\n",
       "dtype: float64"
      ]
     },
     "execution_count": 25,
     "metadata": {},
     "output_type": "execute_result"
    }
   ],
   "source": [
    "# 1.10 Interquartile Range/Jangkauan Interkuartil\n",
    "IQR = gandum_df.select_dtypes(include=['int64','float64'])\n",
    "Q1 = IQR.quantile(.25)\n",
    "Q3 = IQR.quantile(.75)\n",
    "Q3 - Q1"
   ]
  },
  {
   "cell_type": "code",
   "execution_count": 26,
   "id": "1ef87e4f",
   "metadata": {},
   "outputs": [
    {
     "data": {
      "text/plain": [
       "id             0.000000\n",
       "Daerah         0.238144\n",
       "SumbuUtama     0.761529\n",
       "SumbuKecil    -0.010828\n",
       "Keunikan      -1.623472\n",
       "AreaBulatan    0.257560\n",
       "Diameter       0.002725\n",
       "KadarAir       0.493661\n",
       "Keliling       0.733627\n",
       "Bulatan       -3.599237\n",
       "Ransum        -0.658188\n",
       "Kelas         -0.008024\n",
       "dtype: float64"
      ]
     },
     "execution_count": 26,
     "metadata": {},
     "output_type": "execute_result"
    }
   ],
   "source": [
    "# 1.11 Skewness\n",
    "gandum_df.skew()"
   ]
  },
  {
   "cell_type": "code",
   "execution_count": 27,
   "id": "7bc26c59",
   "metadata": {},
   "outputs": [
    {
     "data": {
      "text/plain": [
       "id             -1.200000\n",
       "Daerah         -0.434631\n",
       "SumbuUtama      4.330534\n",
       "SumbuKecil      0.475568\n",
       "Keunikan        2.917256\n",
       "AreaBulatan    -0.409685\n",
       "Diameter       -0.466455\n",
       "KadarAir       -0.740326\n",
       "Keliling        2.272685\n",
       "Bulatan        29.975096\n",
       "Ransum         -0.428656\n",
       "Kelas          -2.007984\n",
       "dtype: float64"
      ]
     },
     "execution_count": 27,
     "metadata": {},
     "output_type": "execute_result"
    }
   ],
   "source": [
    "# 1.12 Kurtosis\n",
    "gandum_df.kurtosis()"
   ]
  },
  {
   "cell_type": "code",
   "execution_count": 28,
   "id": "7d42efe4",
   "metadata": {
    "scrolled": false
   },
   "outputs": [
    {
     "data": {
      "text/plain": [
       "<AxesSubplot:ylabel='Frequency'>"
      ]
     },
     "execution_count": 28,
     "metadata": {},
     "output_type": "execute_result"
    },
    {
     "data": {
      "image/png": "[encoded data removed]",
      "text/plain": [
       "<Figure size 432x288 with 1 Axes>"
      ]
     },
     "metadata": {
      "needs_background": "light"
     },
     "output_type": "display_data"
    }
   ],
   "source": [
    "# 2.  Visualisasi Plot Distribusi untuk setiap kolom numerik pada data Gandum\n",
    "# 2.1. Kolom 'Daerah'\n",
    "# 2.1.1. Histogram Kolom 'Daerah'\n",
    "gandum_df[['Daerah']].plot(kind=\"hist\", rwidth=0.8)"
   ]
  },
  {
   "cell_type": "code",
   "execution_count": 29,
   "id": "3f66e687",
   "metadata": {},
   "outputs": [
    {
     "data": {
      "text/plain": [
       "<AxesSubplot:>"
      ]
     },
     "execution_count": 29,
     "metadata": {},
     "output_type": "execute_result"
    },
    {
     "data": {
      "image/png": "[encoded data removed]",
      "text/plain": [
       "<Figure size 432x288 with 1 Axes>"
      ]
     },
     "metadata": {
      "needs_background": "light"
     },
     "output_type": "display_data"
    }
   ],
   "source": [
    "# 2.1.2. BoxPlot Kolom 'Daerah'\n",
    "gandum_df.boxplot(column=['Daerah'])"
   ]
  },
  {
   "cell_type": "code",
   "execution_count": null,
   "id": "advisory-revolution",
   "metadata": {},
   "outputs": [],
   "source": [
    "# Berdasarkan histogram, dapat diketahui bahwa data pada kolom 'Daerah' cenderung berdistribusi normal\n",
    "# Berdasarkan BoxPlot, dapat diketahui bahwa data pada kolom 'Daerah' memiliki\n",
    "# Kuartil Pertama (Q1) bernilai ±4000 dan Kuartil Ketiga (Q3) bernilai ±5500\n",
    "# sehingga didapat Interquartile Range (IQR) dari data ini berada pada rentang antara ±4000-±5500\n",
    "# Selain itu, dapat diketahui pula bahwa jangkauan data pada kolom 'Daerah' lumayan besar\n",
    "# Dapat dilihat juga bahwa median data berada pada nilai ±4750"
   ]
  },
  {
   "cell_type": "code",
   "execution_count": 30,
   "id": "d35849d3",
   "metadata": {},
   "outputs": [
    {
     "data": {
      "text/plain": [
       "<AxesSubplot:ylabel='Frequency'>"
      ]
     },
     "execution_count": 30,
     "metadata": {},
     "output_type": "execute_result"
    },
    {
     "data": {
      "image/png": "[encoded data removed]",
      "text/plain": [
       "<Figure size 432x288 with 1 Axes>"
      ]
     },
     "metadata": {
      "needs_background": "light"
     },
     "output_type": "display_data"
    }
   ],
   "source": [
    "# 2.2. Kolom 'SumbuUtama'\n",
    "# 2.2.1. Histogram Kolom 'SumbuUtama'\n",
    "gandum_df[['SumbuUtama']].plot(kind=\"hist\", rwidth=0.8)"
   ]
  },
  {
   "cell_type": "code",
   "execution_count": 31,
   "id": "noticed-interest",
   "metadata": {},
   "outputs": [
    {
     "data": {
      "text/plain": [
       "<AxesSubplot:>"
      ]
     },
     "execution_count": 31,
     "metadata": {},
     "output_type": "execute_result"
    },
    {
     "data": {
      "image/png": "[encoded data removed]",
      "text/plain": [
       "<Figure size 432x288 with 1 Axes>"
      ]
     },
     "metadata": {
      "needs_background": "light"
     },
     "output_type": "display_data"
    }
   ],
   "source": [
    "# 2.2.2. BoxPlot Kolom 'SumbuUtama'\n",
    "gandum_df.boxplot(column=['SumbuUtama'])"
   ]
  },
  {
   "cell_type": "code",
   "execution_count": null,
   "id": "contained-bryan",
   "metadata": {},
   "outputs": [],
   "source": [
    "# Data pada kolom 'SumbuUtama' memiliki Kuartil Pertama (Q1) bernilai ±105 dan Kuartil Ketiga (Q3) bernilai ±130\n",
    "# sehingga didapat Interquartile Range (IQR) dari data ini berada pada rentang antara ±105-±130"
   ]
  },
  {
   "cell_type": "code",
   "execution_count": 32,
   "id": "atlantic-naples",
   "metadata": {},
   "outputs": [
    {
     "data": {
      "text/plain": [
       "<AxesSubplot:ylabel='Frequency'>"
      ]
     },
     "execution_count": 32,
     "metadata": {},
     "output_type": "execute_result"
    },
    {
     "data": {
      "image/png": "[encoded data removed]",
      "text/plain": [
       "<Figure size 432x288 with 1 Axes>"
      ]
     },
     "metadata": {
      "needs_background": "light"
     },
     "output_type": "display_data"
    }
   ],
   "source": [
    "# 2.3. Kolom 'SumbuKecil'\n",
    "# 2.3.1. Histogram Kolom 'SumbuKecil'\n",
    "gandum_df[['SumbuKecil']].plot(kind=\"hist\", rwidth=0.8)"
   ]
  },
  {
   "cell_type": "code",
   "execution_count": 33,
   "id": "romantic-witch",
   "metadata": {},
   "outputs": [
    {
     "data": {
      "text/plain": [
       "<AxesSubplot:>"
      ]
     },
     "execution_count": 33,
     "metadata": {},
     "output_type": "execute_result"
    },
    {
     "data": {
      "image/png": "[encoded data removed]",
      "text/plain": [
       "<Figure size 432x288 with 1 Axes>"
      ]
     },
     "metadata": {
      "needs_background": "light"
     },
     "output_type": "display_data"
    }
   ],
   "source": [
    "# 2.3.2. Boxplot Kolom 'SumbuKecil'\n",
    "gandum_df.boxplot(column=['SumbuKecil'])"
   ]
  },
  {
   "cell_type": "code",
   "execution_count": null,
   "id": "national-signature",
   "metadata": {},
   "outputs": [],
   "source": [
    "# Data pada kolom 'SumbuKecil' memiliki Kuartil Pertama (Q1) bernilai ±50 dan Kuartil Ketiga (Q3) bernilai ±55\n",
    "# sehingga didapat Interquartile Range (IQR) dari data ini berada pada rentang antara ±50-±55"
   ]
  },
  {
   "cell_type": "code",
   "execution_count": 34,
   "id": "future-storage",
   "metadata": {},
   "outputs": [
    {
     "data": {
      "text/plain": [
       "<AxesSubplot:ylabel='Frequency'>"
      ]
     },
     "execution_count": 34,
     "metadata": {},
     "output_type": "execute_result"
    },
    {
     "data": {
      "image/png": "[encoded data removed]",
      "text/plain": [
       "<Figure size 432x288 with 1 Axes>"
      ]
     },
     "metadata": {
      "needs_background": "light"
     },
     "output_type": "display_data"
    }
   ],
   "source": [
    "# 2.4. Kolom 'Keunikan'\n",
    "# 2.4.1. Histogram Kolom 'Keunikan'\n",
    "gandum_df[['Keunikan']].plot(kind=\"hist\", rwidth=0.8)"
   ]
  },
  {
   "cell_type": "code",
   "execution_count": 35,
   "id": "nervous-agriculture",
   "metadata": {},
   "outputs": [
    {
     "data": {
      "text/plain": [
       "<AxesSubplot:>"
      ]
     },
     "execution_count": 35,
     "metadata": {},
     "output_type": "execute_result"
    },
    {
     "data": {
      "image/png": "[encoded data removed]",
      "text/plain": [
       "<Figure size 432x288 with 1 Axes>"
      ]
     },
     "metadata": {
      "needs_background": "light"
     },
     "output_type": "display_data"
    }
   ],
   "source": [
    "# 2.4.2. BoxPlot Kolom 'Keunikan'\n",
    "gandum_df.boxplot(column=['Keunikan'])"
   ]
  },
  {
   "cell_type": "code",
   "execution_count": null,
   "id": "alternative-value",
   "metadata": {},
   "outputs": [],
   "source": [
    "# Data pada kolom 'Keunikan' memiliki Kuartil Pertama (Q1) bernilai ±0.8625 dan Kuartil Ketiga (Q3) bernilai ±0.9125\n",
    "# sehingga didapat Interquartile Range (IQR) dari data ini berada pada rentang antara ±0.8625-±0.9125"
   ]
  },
  {
   "cell_type": "code",
   "execution_count": 36,
   "id": "hungarian-position",
   "metadata": {},
   "outputs": [
    {
     "data": {
      "text/plain": [
       "<AxesSubplot:ylabel='Frequency'>"
      ]
     },
     "execution_count": 36,
     "metadata": {},
     "output_type": "execute_result"
    },
    {
     "data": {
      "image/png": "[encoded data removed]",
      "text/plain": [
       "<Figure size 432x288 with 1 Axes>"
      ]
     },
     "metadata": {
      "needs_background": "light"
     },
     "output_type": "display_data"
    }
   ],
   "source": [
    "# 2.5. Kolom 'AreaBulatan'\n",
    "# 2.5.1. Histogram Kolom 'AreaBulatan'\n",
    "gandum_df[['AreaBulatan']].plot(kind=\"hist\", rwidth=0.8)"
   ]
  },
  {
   "cell_type": "code",
   "execution_count": 37,
   "id": "female-earth",
   "metadata": {},
   "outputs": [
    {
     "data": {
      "text/plain": [
       "<AxesSubplot:>"
      ]
     },
     "execution_count": 37,
     "metadata": {},
     "output_type": "execute_result"
    },
    {
     "data": {
      "image/png": "[encoded data removed]",
      "text/plain": [
       "<Figure size 432x288 with 1 Axes>"
      ]
     },
     "metadata": {
      "needs_background": "light"
     },
     "output_type": "display_data"
    }
   ],
   "source": [
    "# 2.5.2. BoxPlot Kolom 'AreaBulatan'\n",
    "gandum_df.boxplot(column=['AreaBulatan'])"
   ]
  },
  {
   "cell_type": "code",
   "execution_count": null,
   "id": "addressed-garlic",
   "metadata": {},
   "outputs": [],
   "source": [
    "# Data pada kolom 'AreaBulatan' memiliki Kuartil Pertama (Q1) bernilai ±4000 dan Kuartil Ketiga (Q3) bernilai ±5750\n",
    "# sehingga didapat Interquartile Range (IQR) dari data ini berada pada rentang antara ±4000-±5750"
   ]
  },
  {
   "cell_type": "code",
   "execution_count": 38,
   "id": "canadian-reservoir",
   "metadata": {},
   "outputs": [
    {
     "data": {
      "text/plain": [
       "<AxesSubplot:ylabel='Frequency'>"
      ]
     },
     "execution_count": 38,
     "metadata": {},
     "output_type": "execute_result"
    },
    {
     "data": {
      "image/png": "[encoded data removed]",
      "text/plain": [
       "<Figure size 432x288 with 1 Axes>"
      ]
     },
     "metadata": {
      "needs_background": "light"
     },
     "output_type": "display_data"
    }
   ],
   "source": [
    "# 2.6. Kolom 'Diameter'\n",
    "# 2.6.1. Histogram Kolom 'Diameter'\n",
    "gandum_df[['Diameter']].plot(kind=\"hist\", rwidth=0.8)"
   ]
  },
  {
   "cell_type": "code",
   "execution_count": 39,
   "id": "laughing-multimedia",
   "metadata": {},
   "outputs": [
    {
     "data": {
      "text/plain": [
       "<AxesSubplot:>"
      ]
     },
     "execution_count": 39,
     "metadata": {},
     "output_type": "execute_result"
    },
    {
     "data": {
      "image/png": "[encoded data removed]",
      "text/plain": [
       "<Figure size 432x288 with 1 Axes>"
      ]
     },
     "metadata": {
      "needs_background": "light"
     },
     "output_type": "display_data"
    }
   ],
   "source": [
    "# 2.6.2. BoxPlot Kolom 'Diameter'\n",
    "gandum_df.boxplot(column=['Diameter'])"
   ]
  },
  {
   "cell_type": "code",
   "execution_count": null,
   "id": "twelve-blowing",
   "metadata": {},
   "outputs": [],
   "source": [
    "# Data pada kolom 'Diameter' memiliki Kuartil Pertama (Q1) bernilai ±72 dan Kuartil Ketiga (Q3) bernilai ±84\n",
    "# sehingga didapat Interquartile Range (IQR) dari data ini berada pada rentang antara ±72-±84"
   ]
  },
  {
   "cell_type": "code",
   "execution_count": 40,
   "id": "subsequent-bleeding",
   "metadata": {},
   "outputs": [
    {
     "data": {
      "text/plain": [
       "<AxesSubplot:ylabel='Frequency'>"
      ]
     },
     "execution_count": 40,
     "metadata": {},
     "output_type": "execute_result"
    },
    {
     "data": {
      "image/png": "[encoded data removed]",
      "text/plain": [
       "<Figure size 432x288 with 1 Axes>"
      ]
     },
     "metadata": {
      "needs_background": "light"
     },
     "output_type": "display_data"
    }
   ],
   "source": [
    "# 2.7. Kolom 'KadarAir'\n",
    "# 2.7.1. Histogram Kolom 'KadarAir'\n",
    "gandum_df[['KadarAir']].plot(kind=\"hist\", rwidth=0.8)"
   ]
  },
  {
   "cell_type": "code",
   "execution_count": 41,
   "id": "waiting-invitation",
   "metadata": {},
   "outputs": [
    {
     "data": {
      "text/plain": [
       "<AxesSubplot:>"
      ]
     },
     "execution_count": 41,
     "metadata": {},
     "output_type": "execute_result"
    },
    {
     "data": {
      "image/png": "[encoded data removed]",
      "text/plain": [
       "<Figure size 432x288 with 1 Axes>"
      ]
     },
     "metadata": {
      "needs_background": "light"
     },
     "output_type": "display_data"
    }
   ],
   "source": [
    "# 2.7.2. BoxPlot Kolom 'KadarAir'\n",
    "gandum_df.boxplot(column=['KadarAir'])"
   ]
  },
  {
   "cell_type": "code",
   "execution_count": null,
   "id": "lined-confirmation",
   "metadata": {},
   "outputs": [],
   "source": [
    "# Data pada kolom 'KadarAir' memiliki Kuartil Pertama (Q1) bernilai ±0.58 dan Kuartil Ketiga (Q3) bernilai ±0.72\n",
    "# sehingga didapat Interquartile Range (IQR) dari data ini berada pada rentang antara ±0.58-±0.72"
   ]
  },
  {
   "cell_type": "code",
   "execution_count": 42,
   "id": "south-adult",
   "metadata": {},
   "outputs": [
    {
     "data": {
      "text/plain": [
       "<AxesSubplot:ylabel='Frequency'>"
      ]
     },
     "execution_count": 42,
     "metadata": {},
     "output_type": "execute_result"
    },
    {
     "data": {
      "image/png": "[encoded data removed]",
      "text/plain": [
       "<Figure size 432x288 with 1 Axes>"
      ]
     },
     "metadata": {
      "needs_background": "light"
     },
     "output_type": "display_data"
    }
   ],
   "source": [
    "# 2.8. Kolom 'Keliling'\n",
    "# 2.8.1. Histogram Kolom 'Keliling'\n",
    "gandum_df[['Keliling']].plot(kind=\"hist\", rwidth=0.8)"
   ]
  },
  {
   "cell_type": "code",
   "execution_count": 43,
   "id": "demographic-owner",
   "metadata": {},
   "outputs": [
    {
     "data": {
      "text/plain": [
       "<AxesSubplot:>"
      ]
     },
     "execution_count": 43,
     "metadata": {},
     "output_type": "execute_result"
    },
    {
     "data": {
      "image/png": "[encoded data removed]",
      "text/plain": [
       "<Figure size 432x288 with 1 Axes>"
      ]
     },
     "metadata": {
      "needs_background": "light"
     },
     "output_type": "display_data"
    }
   ],
   "source": [
    "# 2.8.2. BoxPlot Kolom 'Keliling'\n",
    "gandum_df.boxplot(column=['Keliling'])"
   ]
  },
  {
   "cell_type": "code",
   "execution_count": null,
   "id": "pursuant-colors",
   "metadata": {},
   "outputs": [],
   "source": [
    "# Data pada kolom 'Keliling' memiliki Kuartil Pertama (Q1) bernilai ±251 dan Kuartil Ketiga (Q3) bernilai ±301\n",
    "# sehingga didapat Interquartile Range (IQR) dari data ini berada pada rentang antara ±251-±301"
   ]
  },
  {
   "cell_type": "code",
   "execution_count": 44,
   "id": "independent-actress",
   "metadata": {},
   "outputs": [
    {
     "data": {
      "text/plain": [
       "<AxesSubplot:ylabel='Frequency'>"
      ]
     },
     "execution_count": 44,
     "metadata": {},
     "output_type": "execute_result"
    },
    {
     "data": {
      "image/png": "[encoded data removed]",
      "text/plain": [
       "<Figure size 432x288 with 1 Axes>"
      ]
     },
     "metadata": {
      "needs_background": "light"
     },
     "output_type": "display_data"
    }
   ],
   "source": [
    "# 2.9. Kolom 'Bulatan'\n",
    "# 2.9.1. Histogram Kolom 'Bulatan'\n",
    "gandum_df[['Bulatan']].plot(kind=\"hist\", rwidth=0.8)"
   ]
  },
  {
   "cell_type": "code",
   "execution_count": 45,
   "id": "russian-infrared",
   "metadata": {},
   "outputs": [
    {
     "data": {
      "text/plain": [
       "<AxesSubplot:>"
      ]
     },
     "execution_count": 45,
     "metadata": {},
     "output_type": "execute_result"
    },
    {
     "data": {
      "image/png": "[encoded data removed]",
      "text/plain": [
       "<Figure size 432x288 with 1 Axes>"
      ]
     },
     "metadata": {
      "needs_background": "light"
     },
     "output_type": "display_data"
    }
   ],
   "source": [
    "# 2.9.2. BoxPlot Kolom 'Bulatan'\n",
    "gandum_df.boxplot(column=['Bulatan'])"
   ]
  },
  {
   "cell_type": "code",
   "execution_count": null,
   "id": "indoor-parade",
   "metadata": {},
   "outputs": [],
   "source": [
    "# Data pada kolom 'Bulatan' memiliki Kuartil Pertama (Q1) bernilai ±0.725 dan Kuartil Ketiga (Q3) bernilai ±0.8\n",
    "# sehingga didapat Interquartile Range (IQR) dari data ini berada pada rentang antara ±0.725-±0.8\n",
    "# Data ini cenderung menumpuk pada rentang ±0.725-±0.8 walaupun terdapat beberapa data yang berada di luar IQR\n",
    "# Data ini berjenis outlier bawah karena terdapat lebih banyak data yang berada di luar batas bawah IQR daripada di batas atasnya"
   ]
  },
  {
   "cell_type": "code",
   "execution_count": 46,
   "id": "absent-texture",
   "metadata": {},
   "outputs": [
    {
     "data": {
      "text/plain": [
       "<AxesSubplot:ylabel='Frequency'>"
      ]
     },
     "execution_count": 46,
     "metadata": {},
     "output_type": "execute_result"
    },
    {
     "data": {
      "image/png": "[encoded data removed]",
      "text/plain": [
       "<Figure size 432x288 with 1 Axes>"
      ]
     },
     "metadata": {
      "needs_background": "light"
     },
     "output_type": "display_data"
    }
   ],
   "source": [
    "# 2.10. Kolom 'Ransum'\n",
    "# 2.10.1. Histogram Kolom 'Ransum'\n",
    "gandum_df[['Ransum']].plot(kind=\"hist\", rwidth=0.8)"
   ]
  },
  {
   "cell_type": "code",
   "execution_count": 47,
   "id": "macro-blend",
   "metadata": {},
   "outputs": [
    {
     "data": {
      "text/plain": [
       "<AxesSubplot:>"
      ]
     },
     "execution_count": 47,
     "metadata": {},
     "output_type": "execute_result"
    },
    {
     "data": {
      "image/png": "[encoded data removed]",
      "text/plain": [
       "<Figure size 432x288 with 1 Axes>"
      ]
     },
     "metadata": {
      "needs_background": "light"
     },
     "output_type": "display_data"
    }
   ],
   "source": [
    "# 2.10.2. BoxPlot kolom 'Ransum'\n",
    "gandum_df.boxplot(column=['Ransum'])"
   ]
  },
  {
   "cell_type": "code",
   "execution_count": null,
   "id": "adjacent-metropolitan",
   "metadata": {},
   "outputs": [],
   "source": [
    "# Data pada kolom 'Ransum' memiliki Kuartil Pertama (Q1) bernilai ±2.0 dan Kuartil Ketiga (Q3) bernilai ±2.4\n",
    "# sehingga didapat Interquartile Range (IQR) dari data ini berada pada rentang antara ±2.0-±2.4"
   ]
  },
  {
   "cell_type": "code",
   "execution_count": null,
   "id": "b4ad9db7",
   "metadata": {},
   "outputs": [],
   "source": [
    "# 3.  Penentuan setiap kolom pada data Gandum berdistribusi normal atau tidak.\n",
    "#     Uji normalitas yang digunakan adalah Shapiro-Wilk Test karena dikembangkan khusus untuk uji normalitas.\n",
    "#     Interpretasi:\n",
    "#      ● Jika P-Value dari Shapiro-Wilk Test lebih besar dari 0.05, diasumsikan berdistribusi normal.\n",
    "#      ● Jika P-Value dari Shapiro-Wilk Test lebih kecil dari 0.05, diasumsikan tidak berdistribusi normal. "
   ]
  },
  {
   "cell_type": "code",
   "execution_count": 35,
   "id": "forced-ceiling",
   "metadata": {},
   "outputs": [
    {
     "name": "stdout",
     "output_type": "stream",
     "text": [
      "Statistics=0.991, p=0.003\n",
      "Kolom \"Daerah\" diasumsikan tidak berdistribusi normal\n"
     ]
    }
   ],
   "source": [
    "# 3.1 Uji normalitas kolom \"Daerah\"\n",
    "#     Dilihat dari histogram 2.1.1, kolom \"Daerah\" BUKAN merupakan distribusi normal.\n",
    "stat, p = stats.shapiro(gandum_df['Daerah'])\n",
    "print('Statistics=%.3f, p=%.3f' % (stat, p))\n",
    "alpha = 0.05\n",
    "if p > alpha:\n",
    "\tprint('Kolom \"Daerah\" diasumsikan berdistribusi normal')\n",
    "else:\n",
    "\tprint('Kolom \"Daerah\" diasumsikan tidak berdistribusi normal')"
   ]
  },
  {
   "cell_type": "code",
   "execution_count": 37,
   "id": "5fb619ca",
   "metadata": {},
   "outputs": [
    {
     "name": "stdout",
     "output_type": "stream",
     "text": [
      "Statistics=0.951, p=0.000\n",
      "Kolom \"SumbuUtama\" diasumsikan tidak berdistribusi normal\n"
     ]
    }
   ],
   "source": [
    "# 3.2 Uji normalitas kolom \"SumbuUtama\"\n",
    "#     Dilihat dari histogram 2.2.1, kolom \"SumbuUtama\" BUKAN merupakan distribusi normal.\n",
    "stat, p = stats.shapiro(gandum_df['SumbuUtama'])\n",
    "print('Statistics=%.3f, p=%.3f' % (stat, p))\n",
    "alpha = 0.05\n",
    "if p > alpha:\n",
    "\tprint('Kolom \"SumbuUtama\" diasumsikan berdistribusi normal')\n",
    "else:\n",
    "\tprint('Kolom \"SumbuUtama\" diasumsikan tidak berdistribusi normal')"
   ]
  },
  {
   "cell_type": "code",
   "execution_count": 38,
   "id": "71684dec",
   "metadata": {},
   "outputs": [
    {
     "name": "stdout",
     "output_type": "stream",
     "text": [
      "Statistics=0.997, p=0.423\n",
      "Kolom \"SumbuKecil\" diasumsikan berdistribusi normal\n"
     ]
    }
   ],
   "source": [
    "# 3.3 Uji normalitas kolom \"SumbuKecil\"\n",
    "#     Dilihat dari histogram 2.3.1, kolom \"SumbuKecil\" merupakan distribusi normal.\n",
    "stat, p = stats.shapiro(gandum_df['SumbuKecil'])\n",
    "print('Statistics=%.3f, p=%.3f' % (stat, p))\n",
    "alpha = 0.05\n",
    "if p > alpha:\n",
    "\tprint('Kolom \"SumbuKecil\" diasumsikan berdistribusi normal')\n",
    "else:\n",
    "\tprint('Kolom \"SumbuKecil\" diasumsikan tidak berdistribusi normal')"
   ]
  },
  {
   "cell_type": "code",
   "execution_count": 39,
   "id": "06048fa6",
   "metadata": {},
   "outputs": [
    {
     "name": "stdout",
     "output_type": "stream",
     "text": [
      "Statistics=0.831, p=0.000\n",
      "Kolom \"Keunikan\" diasumsikan tidak berdistribusi normal\n"
     ]
    }
   ],
   "source": [
    "# 3.4 Uji normalitas kolom \"Keunikan\"\n",
    "#     Dilihat dari histogram 2.4.1, kolom \"Keunikan\" BUKAN merupakan distribusi normal.\n",
    "stat, p = stats.shapiro(gandum_df['Keunikan'])\n",
    "print('Statistics=%.3f, p=%.3f' % (stat, p))\n",
    "alpha = 0.05\n",
    "if p > alpha:\n",
    "\tprint('Kolom \"Keunikan\" diasumsikan berdistribusi normal')\n",
    "else:\n",
    "\tprint('Kolom \"Keunikan\" diasumsikan tidak berdistribusi normal')"
   ]
  },
  {
   "cell_type": "code",
   "execution_count": 40,
   "id": "4536ea76",
   "metadata": {},
   "outputs": [
    {
     "name": "stdout",
     "output_type": "stream",
     "text": [
      "Statistics=0.990, p=0.002\n",
      "Kolom \"AreaBulatan\" diasumsikan tidak berdistribusi normal\n"
     ]
    }
   ],
   "source": [
    "# 3.5 Uji normalitas kolom \"AreaBulatan\"\n",
    "#     Dilihat dari histogram 2.5.1, kolom \"AreaBulatan\" BUKAN merupakan distribusi normal.\n",
    "stat, p = stats.shapiro(gandum_df['AreaBulatan'])\n",
    "print('Statistics=%.3f, p=%.3f' % (stat, p))\n",
    "alpha = 0.05\n",
    "if p > alpha:\n",
    "\tprint('Kolom \"AreaBulatan\" diasumsikan berdistribusi normal')\n",
    "else:\n",
    "\tprint('Kolom \"AreaBulatan\" diasumsikan tidak berdistribusi normal')"
   ]
  },
  {
   "cell_type": "code",
   "execution_count": 41,
   "id": "7fb7ff65",
   "metadata": {},
   "outputs": [
    {
     "name": "stdout",
     "output_type": "stream",
     "text": [
      "Statistics=0.995, p=0.118\n",
      "Kolom \"Diameter\" diasumsikan berdistribusi normal\n"
     ]
    }
   ],
   "source": [
    "# 3.6 Uji normalitas kolom \"Diameter\"\n",
    "#     Dilihat dari histogram 2.6.1, kolom \"Diameter\" merupakan distribusi normal.\n",
    "stat, p = stats.shapiro(gandum_df['Diameter'])\n",
    "print('Statistics=%.3f, p=%.3f' % (stat, p))\n",
    "alpha = 0.05\n",
    "if p > alpha:\n",
    "\tprint('Kolom \"Diameter\" diasumsikan berdistribusi normal')\n",
    "else:\n",
    "\tprint('Kolom \"Diameter\" diasumsikan tidak berdistribusi normal')"
   ]
  },
  {
   "cell_type": "code",
   "execution_count": 42,
   "id": "98fb4acd",
   "metadata": {},
   "outputs": [
    {
     "name": "stdout",
     "output_type": "stream",
     "text": [
      "Statistics=0.947, p=0.000\n",
      "Kolom \"KadarAir\" diasumsikan tidak berdistribusi normal\n"
     ]
    }
   ],
   "source": [
    "# 3.7 Uji normalitas kolom \"KadarAir\"\n",
    "#     Dilihat dari histogram 2.7.1, kolom \"KadarAir\" BUKAN merupakan distribusi normal.\n",
    "stat, p = stats.shapiro(gandum_df['KadarAir'])\n",
    "print('Statistics=%.3f, p=%.3f' % (stat, p))\n",
    "alpha = 0.05\n",
    "if p > alpha:\n",
    "\tprint('Kolom \"KadarAir\" diasumsikan berdistribusi normal')\n",
    "else:\n",
    "\tprint('Kolom \"KadarAir\" diasumsikan tidak berdistribusi normal')"
   ]
  },
  {
   "cell_type": "code",
   "execution_count": 43,
   "id": "f51eb7ef",
   "metadata": {},
   "outputs": [
    {
     "name": "stdout",
     "output_type": "stream",
     "text": [
      "Statistics=0.969, p=0.000\n",
      "Kolom \"Keliling\" diasumsikan tidak berdistribusi normal\n"
     ]
    }
   ],
   "source": [
    "# 3.8 Uji normalitas kolom \"Keliling\"\n",
    "#     Dilihat dari histogram 2.8.1, kolom \"Keliling\" BUKAN merupakan distribusi normal.\n",
    "stat, p = stats.shapiro(gandum_df['Keliling'])\n",
    "print('Statistics=%.3f, p=%.3f' % (stat, p))\n",
    "alpha = 0.05\n",
    "if p > alpha:\n",
    "\tprint('Kolom \"Keliling\" diasumsikan berdistribusi normal')\n",
    "else:\n",
    "\tprint('Kolom \"Keliling\" diasumsikan tidak berdistribusi normal')"
   ]
  },
  {
   "cell_type": "code",
   "execution_count": 44,
   "id": "2640adc7",
   "metadata": {},
   "outputs": [
    {
     "name": "stdout",
     "output_type": "stream",
     "text": [
      "Statistics=0.770, p=0.000\n",
      "Kolom \"Bulatan\" diasumsikan tidak berdistribusi normal\n"
     ]
    }
   ],
   "source": [
    "# 3.9 Uji normalitas kolom \"Bulatan\"\n",
    "#     Dilihat dari histogram 2.9.1, kolom \"Bulatan\" BUKAN merupakan distribusi normal.\n",
    "stat, p = stats.shapiro(gandum_df['Bulatan'])\n",
    "print('Statistics=%.3f, p=%.3f' % (stat, p))\n",
    "alpha = 0.05\n",
    "if p > alpha:\n",
    "\tprint('Kolom \"Bulatan\" diasumsikan berdistribusi normal')\n",
    "else:\n",
    "\tprint('Kolom \"Bulatan\" diasumsikan tidak berdistribusi normal')"
   ]
  },
  {
   "cell_type": "code",
   "execution_count": 45,
   "id": "839ff077",
   "metadata": {},
   "outputs": [
    {
     "name": "stdout",
     "output_type": "stream",
     "text": [
      "Statistics=0.927, p=0.000\n",
      "Kolom \"Ransum\" diasumsikan tidak berdistribusi normal\n"
     ]
    }
   ],
   "source": [
    "# 3.10 Uji normalitas kolom \"Ransum\"\n",
    "#      Dilihat dari histogram 2.10.1, kolom \"Ransum\" BUKAN merupakan distribusi normal. \n",
    "stat, p = stats.shapiro(gandum_df['Ransum'])\n",
    "print('Statistics=%.3f, p=%.3f' % (stat, p))\n",
    "alpha = 0.05\n",
    "if p > alpha:\n",
    "\tprint('Kolom \"Ransum\" diasumsikan berdistribusi normal')\n",
    "else:\n",
    "\tprint('Kolom \"Ransum\" diasumsikan tidak berdistribusi normal')"
   ]
  },
  {
   "cell_type": "code",
   "execution_count": null,
   "id": "bab1010b",
   "metadata": {},
   "outputs": [],
   "source": [
    "# 4.  Tes Hipotesis 1 Sampel"
   ]
  }
 ],
 "metadata": {
  "kernelspec": {
   "display_name": "Python 3",
   "language": "python",
   "name": "python3"
  },
  "language_info": {
   "codemirror_mode": {
    "name": "ipython",
    "version": 3
   },
   "file_extension": ".py",
   "mimetype": "text/x-python",
   "name": "python",
   "nbconvert_exporter": "python",
   "pygments_lexer": "ipython3",
   "version": "3.9.1"
  }
 },
 "nbformat": 4,
 "nbformat_minor": 5
}
