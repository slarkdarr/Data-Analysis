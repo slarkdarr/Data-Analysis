{
 "cells": [
  {
   "cell_type": "code",
   "execution_count": 1,
   "id": "737af754",
   "metadata": {
    "scrolled": true
   },
   "outputs": [],
   "source": [
    "import pandas as pd\n",
    "import matplotlib.pyplot as plt\n",
    "from scipy import stats\n",
    "from math import sqrt\n",
    "gandum_df = pd.read_csv(\"Gandum.csv\", names=['id','Daerah','SumbuUtama','SumbuKecil','Keunikan','AreaBulatan','Diameter','KadarAir','Keliling','Bulatan','Ransum','Kelas'])"
   ]
  },
  {
   "cell_type": "markdown",
   "id": "urban-major",
   "metadata": {},
   "source": [
    "# 1.  Deskripsi statistik dari semua kolom pada data 'Gandum' yang bersifat numerik\n",
    "## 1.1. Mean"
   ]
  },
  {
   "cell_type": "code",
   "execution_count": 2,
   "id": "efe52abe",
   "metadata": {},
   "outputs": [
    {
     "data": {
      "text/plain": [
       "id              250.500000\n",
       "Daerah         4801.246000\n",
       "SumbuUtama      116.045171\n",
       "SumbuKecil       53.715246\n",
       "Keunikan          0.878764\n",
       "AreaBulatan    4937.048000\n",
       "Diameter         77.771158\n",
       "KadarAir          0.648372\n",
       "Keliling        281.479722\n",
       "Bulatan           0.761737\n",
       "Ransum            2.150915\n",
       "Kelas             1.502000\n",
       "dtype: float64"
      ]
     },
     "execution_count": 2,
     "metadata": {},
     "output_type": "execute_result"
    }
   ],
   "source": [
    "# Rata-rata data\n",
    "gandum_df.mean()"
   ]
  },
  {
   "cell_type": "markdown",
   "id": "successful-cricket",
   "metadata": {},
   "source": [
    "## 1.2. Median"
   ]
  },
  {
   "cell_type": "code",
   "execution_count": 3,
   "id": "555acc91",
   "metadata": {},
   "outputs": [
    {
     "data": {
      "text/plain": [
       "id              250.500000\n",
       "Daerah         4735.000000\n",
       "SumbuUtama      115.405140\n",
       "SumbuKecil       53.731199\n",
       "Keunikan          0.890045\n",
       "AreaBulatan    4857.000000\n",
       "Diameter         77.645277\n",
       "KadarAir          0.626117\n",
       "Keliling        280.045500\n",
       "Bulatan           0.761288\n",
       "Ransum            2.193599\n",
       "Kelas             2.000000\n",
       "dtype: float64"
      ]
     },
     "execution_count": 3,
     "metadata": {},
     "output_type": "execute_result"
    }
   ],
   "source": [
    "# Nilai tengah data\n",
    "gandum_df.median()"
   ]
  },
  {
   "cell_type": "markdown",
   "id": "homeless-trustee",
   "metadata": {},
   "source": [
    "## 1.3. Modus"
   ]
  },
  {
   "cell_type": "code",
   "execution_count": 8,
   "id": "532f85d9",
   "metadata": {},
   "outputs": [
    {
     "data": {
      "text/html": [
       "<div>\n",
       "<style scoped>\n",
       "    .dataframe tbody tr th:only-of-type {\n",
       "        vertical-align: middle;\n",
       "    }\n",
       "\n",
       "    .dataframe tbody tr th {\n",
       "        vertical-align: top;\n",
       "    }\n",
       "\n",
       "    .dataframe thead th {\n",
       "        text-align: right;\n",
       "    }\n",
       "</style>\n",
       "<table border=\"1\" class=\"dataframe\">\n",
       "  <thead>\n",
       "    <tr style=\"text-align: right;\">\n",
       "      <th></th>\n",
       "      <th>id</th>\n",
       "      <th>Daerah</th>\n",
       "      <th>SumbuUtama</th>\n",
       "      <th>SumbuKecil</th>\n",
       "      <th>Keunikan</th>\n",
       "      <th>AreaBulatan</th>\n",
       "      <th>Diameter</th>\n",
       "      <th>KadarAir</th>\n",
       "      <th>Keliling</th>\n",
       "      <th>Bulatan</th>\n",
       "      <th>Ransum</th>\n",
       "      <th>Kelas</th>\n",
       "    </tr>\n",
       "  </thead>\n",
       "  <tbody>\n",
       "    <tr>\n",
       "      <th>0</th>\n",
       "      <td>1</td>\n",
       "      <td>3992.0</td>\n",
       "      <td>74.133114</td>\n",
       "      <td>39.906517</td>\n",
       "      <td>0.719916</td>\n",
       "      <td>3802.0</td>\n",
       "      <td>71.293564</td>\n",
       "      <td>0.735849</td>\n",
       "      <td>197.015</td>\n",
       "      <td>0.174590</td>\n",
       "      <td>1.440796</td>\n",
       "      <td>2.0</td>\n",
       "    </tr>\n",
       "    <tr>\n",
       "      <th>1</th>\n",
       "      <td>2</td>\n",
       "      <td>4881.0</td>\n",
       "      <td>74.364021</td>\n",
       "      <td>41.436419</td>\n",
       "      <td>0.725553</td>\n",
       "      <td>4913.0</td>\n",
       "      <td>78.833256</td>\n",
       "      <td>0.824405</td>\n",
       "      <td>200.587</td>\n",
       "      <td>0.261297</td>\n",
       "      <td>1.453137</td>\n",
       "      <td>NaN</td>\n",
       "    </tr>\n",
       "    <tr>\n",
       "      <th>2</th>\n",
       "      <td>3</td>\n",
       "      <td>5642.0</td>\n",
       "      <td>74.691881</td>\n",
       "      <td>42.871879</td>\n",
       "      <td>0.731211</td>\n",
       "      <td>NaN</td>\n",
       "      <td>84.756224</td>\n",
       "      <td>NaN</td>\n",
       "      <td>202.456</td>\n",
       "      <td>0.299298</td>\n",
       "      <td>1.465950</td>\n",
       "      <td>NaN</td>\n",
       "    </tr>\n",
       "    <tr>\n",
       "      <th>3</th>\n",
       "      <td>4</td>\n",
       "      <td>6083.0</td>\n",
       "      <td>76.293164</td>\n",
       "      <td>43.284979</td>\n",
       "      <td>0.738639</td>\n",
       "      <td>NaN</td>\n",
       "      <td>88.006342</td>\n",
       "      <td>NaN</td>\n",
       "      <td>207.325</td>\n",
       "      <td>0.589146</td>\n",
       "      <td>1.483456</td>\n",
       "      <td>NaN</td>\n",
       "    </tr>\n",
       "    <tr>\n",
       "      <th>4</th>\n",
       "      <td>5</td>\n",
       "      <td>NaN</td>\n",
       "      <td>76.789043</td>\n",
       "      <td>44.119355</td>\n",
       "      <td>0.749282</td>\n",
       "      <td>NaN</td>\n",
       "      <td>NaN</td>\n",
       "      <td>NaN</td>\n",
       "      <td>207.697</td>\n",
       "      <td>0.603807</td>\n",
       "      <td>1.510000</td>\n",
       "      <td>NaN</td>\n",
       "    </tr>\n",
       "    <tr>\n",
       "      <th>...</th>\n",
       "      <td>...</td>\n",
       "      <td>...</td>\n",
       "      <td>...</td>\n",
       "      <td>...</td>\n",
       "      <td>...</td>\n",
       "      <td>...</td>\n",
       "      <td>...</td>\n",
       "      <td>...</td>\n",
       "      <td>...</td>\n",
       "      <td>...</td>\n",
       "      <td>...</td>\n",
       "      <td>...</td>\n",
       "    </tr>\n",
       "    <tr>\n",
       "      <th>495</th>\n",
       "      <td>496</td>\n",
       "      <td>NaN</td>\n",
       "      <td>152.068440</td>\n",
       "      <td>63.322854</td>\n",
       "      <td>0.913724</td>\n",
       "      <td>NaN</td>\n",
       "      <td>NaN</td>\n",
       "      <td>NaN</td>\n",
       "      <td>375.651</td>\n",
       "      <td>0.872417</td>\n",
       "      <td>2.461017</td>\n",
       "      <td>NaN</td>\n",
       "    </tr>\n",
       "    <tr>\n",
       "      <th>496</th>\n",
       "      <td>497</td>\n",
       "      <td>NaN</td>\n",
       "      <td>152.113491</td>\n",
       "      <td>63.762307</td>\n",
       "      <td>0.913760</td>\n",
       "      <td>NaN</td>\n",
       "      <td>NaN</td>\n",
       "      <td>NaN</td>\n",
       "      <td>390.125</td>\n",
       "      <td>0.874243</td>\n",
       "      <td>2.461510</td>\n",
       "      <td>NaN</td>\n",
       "    </tr>\n",
       "    <tr>\n",
       "      <th>497</th>\n",
       "      <td>498</td>\n",
       "      <td>NaN</td>\n",
       "      <td>153.583387</td>\n",
       "      <td>64.012769</td>\n",
       "      <td>0.913891</td>\n",
       "      <td>NaN</td>\n",
       "      <td>NaN</td>\n",
       "      <td>NaN</td>\n",
       "      <td>434.235</td>\n",
       "      <td>0.874743</td>\n",
       "      <td>2.463297</td>\n",
       "      <td>NaN</td>\n",
       "    </tr>\n",
       "    <tr>\n",
       "      <th>498</th>\n",
       "      <td>499</td>\n",
       "      <td>NaN</td>\n",
       "      <td>227.105462</td>\n",
       "      <td>65.738475</td>\n",
       "      <td>0.913909</td>\n",
       "      <td>NaN</td>\n",
       "      <td>NaN</td>\n",
       "      <td>NaN</td>\n",
       "      <td>448.305</td>\n",
       "      <td>0.891706</td>\n",
       "      <td>2.463546</td>\n",
       "      <td>NaN</td>\n",
       "    </tr>\n",
       "    <tr>\n",
       "      <th>499</th>\n",
       "      <td>500</td>\n",
       "      <td>NaN</td>\n",
       "      <td>227.928583</td>\n",
       "      <td>68.977700</td>\n",
       "      <td>0.914001</td>\n",
       "      <td>NaN</td>\n",
       "      <td>NaN</td>\n",
       "      <td>NaN</td>\n",
       "      <td>488.837</td>\n",
       "      <td>0.904748</td>\n",
       "      <td>2.464809</td>\n",
       "      <td>NaN</td>\n",
       "    </tr>\n",
       "  </tbody>\n",
       "</table>\n",
       "<p>500 rows × 12 columns</p>\n",
       "</div>"
      ],
      "text/plain": [
       "      id  Daerah  SumbuUtama  SumbuKecil  Keunikan  AreaBulatan   Diameter  \\\n",
       "0      1  3992.0   74.133114   39.906517  0.719916       3802.0  71.293564   \n",
       "1      2  4881.0   74.364021   41.436419  0.725553       4913.0  78.833256   \n",
       "2      3  5642.0   74.691881   42.871879  0.731211          NaN  84.756224   \n",
       "3      4  6083.0   76.293164   43.284979  0.738639          NaN  88.006342   \n",
       "4      5     NaN   76.789043   44.119355  0.749282          NaN        NaN   \n",
       "..   ...     ...         ...         ...       ...          ...        ...   \n",
       "495  496     NaN  152.068440   63.322854  0.913724          NaN        NaN   \n",
       "496  497     NaN  152.113491   63.762307  0.913760          NaN        NaN   \n",
       "497  498     NaN  153.583387   64.012769  0.913891          NaN        NaN   \n",
       "498  499     NaN  227.105462   65.738475  0.913909          NaN        NaN   \n",
       "499  500     NaN  227.928583   68.977700  0.914001          NaN        NaN   \n",
       "\n",
       "     KadarAir  Keliling   Bulatan    Ransum  Kelas  \n",
       "0    0.735849   197.015  0.174590  1.440796    2.0  \n",
       "1    0.824405   200.587  0.261297  1.453137    NaN  \n",
       "2         NaN   202.456  0.299298  1.465950    NaN  \n",
       "3         NaN   207.325  0.589146  1.483456    NaN  \n",
       "4         NaN   207.697  0.603807  1.510000    NaN  \n",
       "..        ...       ...       ...       ...    ...  \n",
       "495       NaN   375.651  0.872417  2.461017    NaN  \n",
       "496       NaN   390.125  0.874243  2.461510    NaN  \n",
       "497       NaN   434.235  0.874743  2.463297    NaN  \n",
       "498       NaN   448.305  0.891706  2.463546    NaN  \n",
       "499       NaN   488.837  0.904748  2.464809    NaN  \n",
       "\n",
       "[500 rows x 12 columns]"
      ]
     },
     "execution_count": 8,
     "metadata": {},
     "output_type": "execute_result"
    }
   ],
   "source": [
    "# Nilai yang paling banyak muncul dalam sebuah data\n",
    "gandum_df.mode()"
   ]
  },
  {
   "cell_type": "markdown",
   "id": "other-brunswick",
   "metadata": {},
   "source": [
    "## 1.4. Standar Deviasi/Simpangan Baku"
   ]
  },
  {
   "cell_type": "code",
   "execution_count": 9,
   "id": "d5ceed28",
   "metadata": {},
   "outputs": [
    {
     "data": {
      "text/plain": [
       "id              144.481833\n",
       "Daerah          986.395491\n",
       "SumbuUtama       18.282626\n",
       "SumbuKecil        4.071075\n",
       "Keunikan          0.036586\n",
       "AreaBulatan    1011.696255\n",
       "Diameter          8.056867\n",
       "KadarAir          0.094367\n",
       "Keliling         37.335402\n",
       "Bulatan           0.061702\n",
       "Ransum            0.249767\n",
       "Kelas             0.500497\n",
       "dtype: float64"
      ]
     },
     "execution_count": 9,
     "metadata": {},
     "output_type": "execute_result"
    }
   ],
   "source": [
    "gandum_df.std()"
   ]
  },
  {
   "cell_type": "markdown",
   "id": "happy-crawford",
   "metadata": {},
   "source": [
    "## 1.5. Variansi"
   ]
  },
  {
   "cell_type": "code",
   "execution_count": 10,
   "id": "e3e15547",
   "metadata": {},
   "outputs": [
    {
     "data": {
      "text/plain": [
       "id             2.087500e+04\n",
       "Daerah         9.729761e+05\n",
       "SumbuUtama     3.342544e+02\n",
       "SumbuKecil     1.657365e+01\n",
       "Keunikan       1.338528e-03\n",
       "AreaBulatan    1.023529e+06\n",
       "Diameter       6.491311e+01\n",
       "KadarAir       8.905149e-03\n",
       "Keliling       1.393932e+03\n",
       "Bulatan        3.807194e-03\n",
       "Ransum         6.238350e-02\n",
       "Kelas          2.504970e-01\n",
       "dtype: float64"
      ]
     },
     "execution_count": 10,
     "metadata": {},
     "output_type": "execute_result"
    }
   ],
   "source": [
    "gandum_df.var()"
   ]
  },
  {
   "cell_type": "markdown",
   "id": "driven-victor",
   "metadata": {},
   "source": [
    "## 1.6. Range/Jangkauan"
   ]
  },
  {
   "cell_type": "code",
   "execution_count": 11,
   "id": "bb6c67f2",
   "metadata": {},
   "outputs": [
    {
     "data": {
      "text/plain": [
       "id              499.000000\n",
       "Daerah         4931.000000\n",
       "SumbuUtama      153.795469\n",
       "SumbuKecil       29.071182\n",
       "Keunikan          0.194085\n",
       "AreaBulatan    5141.000000\n",
       "Diameter         40.747172\n",
       "KadarAir          0.468972\n",
       "Keliling        291.822000\n",
       "Bulatan           0.730158\n",
       "Ransum            1.024013\n",
       "Kelas             1.000000\n",
       "dtype: float64"
      ]
     },
     "execution_count": 11,
     "metadata": {},
     "output_type": "execute_result"
    }
   ],
   "source": [
    "# Nilai terbesar dikurangi nilai terkecil dalam sebuah data\n",
    "u = gandum_df.select_dtypes(include=['int64','float64'])\n",
    "u.max() - u.min()"
   ]
  },
  {
   "cell_type": "markdown",
   "id": "literary-sellers",
   "metadata": {},
   "source": [
    "## 1.7. Nilai Minimum"
   ]
  },
  {
   "cell_type": "code",
   "execution_count": 12,
   "id": "e4cfccc0",
   "metadata": {
    "scrolled": true
   },
   "outputs": [
    {
     "data": {
      "text/plain": [
       "id                1.000000\n",
       "Daerah         2522.000000\n",
       "SumbuUtama       74.133114\n",
       "SumbuKecil       39.906517\n",
       "Keunikan          0.719916\n",
       "AreaBulatan    2579.000000\n",
       "Diameter         56.666658\n",
       "KadarAir          0.409927\n",
       "Keliling        197.015000\n",
       "Bulatan           0.174590\n",
       "Ransum            1.440796\n",
       "Kelas             1.000000\n",
       "dtype: float64"
      ]
     },
     "execution_count": 12,
     "metadata": {},
     "output_type": "execute_result"
    }
   ],
   "source": [
    "gandum_df.min()"
   ]
  },
  {
   "cell_type": "markdown",
   "id": "amazing-married",
   "metadata": {},
   "source": [
    "## 1.8. Nilai Maksimum"
   ]
  },
  {
   "cell_type": "code",
   "execution_count": 13,
   "id": "8c04e3d5",
   "metadata": {},
   "outputs": [
    {
     "data": {
      "text/plain": [
       "id              500.000000\n",
       "Daerah         7453.000000\n",
       "SumbuUtama      227.928583\n",
       "SumbuKecil       68.977700\n",
       "Keunikan          0.914001\n",
       "AreaBulatan    7720.000000\n",
       "Diameter         97.413830\n",
       "KadarAir          0.878899\n",
       "Keliling        488.837000\n",
       "Bulatan           0.904748\n",
       "Ransum            2.464809\n",
       "Kelas             2.000000\n",
       "dtype: float64"
      ]
     },
     "execution_count": 13,
     "metadata": {},
     "output_type": "execute_result"
    }
   ],
   "source": [
    "gandum_df.max()"
   ]
  },
  {
   "cell_type": "markdown",
   "id": "eligible-theme",
   "metadata": {},
   "source": [
    "## 1.9. Kuartil"
   ]
  },
  {
   "cell_type": "code",
   "execution_count": 21,
   "id": "3215ea51",
   "metadata": {},
   "outputs": [
    {
     "data": {
      "text/html": [
       "<div>\n",
       "<style scoped>\n",
       "    .dataframe tbody tr th:only-of-type {\n",
       "        vertical-align: middle;\n",
       "    }\n",
       "\n",
       "    .dataframe tbody tr th {\n",
       "        vertical-align: top;\n",
       "    }\n",
       "\n",
       "    .dataframe thead th {\n",
       "        text-align: right;\n",
       "    }\n",
       "</style>\n",
       "<table border=\"1\" class=\"dataframe\">\n",
       "  <thead>\n",
       "    <tr style=\"text-align: right;\">\n",
       "      <th></th>\n",
       "      <th>id</th>\n",
       "      <th>Daerah</th>\n",
       "      <th>SumbuUtama</th>\n",
       "      <th>SumbuKecil</th>\n",
       "      <th>Keunikan</th>\n",
       "      <th>AreaBulatan</th>\n",
       "      <th>Diameter</th>\n",
       "      <th>KadarAir</th>\n",
       "      <th>Keliling</th>\n",
       "      <th>Bulatan</th>\n",
       "      <th>Ransum</th>\n",
       "      <th>Kelas</th>\n",
       "    </tr>\n",
       "  </thead>\n",
       "  <tbody>\n",
       "    <tr>\n",
       "      <th>0.25</th>\n",
       "      <td>125.75</td>\n",
       "      <td>4042.75</td>\n",
       "      <td>104.116098</td>\n",
       "      <td>51.193576</td>\n",
       "      <td>0.863676</td>\n",
       "      <td>4170.25</td>\n",
       "      <td>71.745308</td>\n",
       "      <td>0.572632</td>\n",
       "      <td>255.8830</td>\n",
       "      <td>0.731991</td>\n",
       "      <td>1.983939</td>\n",
       "      <td>1.0</td>\n",
       "    </tr>\n",
       "    <tr>\n",
       "      <th>0.50</th>\n",
       "      <td>250.50</td>\n",
       "      <td>4735.00</td>\n",
       "      <td>115.405140</td>\n",
       "      <td>53.731199</td>\n",
       "      <td>0.890045</td>\n",
       "      <td>4857.00</td>\n",
       "      <td>77.645277</td>\n",
       "      <td>0.626117</td>\n",
       "      <td>280.0455</td>\n",
       "      <td>0.761288</td>\n",
       "      <td>2.193599</td>\n",
       "      <td>2.0</td>\n",
       "    </tr>\n",
       "    <tr>\n",
       "      <th>0.75</th>\n",
       "      <td>375.25</td>\n",
       "      <td>5495.50</td>\n",
       "      <td>129.046792</td>\n",
       "      <td>56.325158</td>\n",
       "      <td>0.907578</td>\n",
       "      <td>5654.25</td>\n",
       "      <td>83.648598</td>\n",
       "      <td>0.726633</td>\n",
       "      <td>306.0625</td>\n",
       "      <td>0.796361</td>\n",
       "      <td>2.381612</td>\n",
       "      <td>2.0</td>\n",
       "    </tr>\n",
       "  </tbody>\n",
       "</table>\n",
       "</div>"
      ],
      "text/plain": [
       "          id   Daerah  SumbuUtama  SumbuKecil  Keunikan  AreaBulatan  \\\n",
       "0.25  125.75  4042.75  104.116098   51.193576  0.863676      4170.25   \n",
       "0.50  250.50  4735.00  115.405140   53.731199  0.890045      4857.00   \n",
       "0.75  375.25  5495.50  129.046792   56.325158  0.907578      5654.25   \n",
       "\n",
       "       Diameter  KadarAir  Keliling   Bulatan    Ransum  Kelas  \n",
       "0.25  71.745308  0.572632  255.8830  0.731991  1.983939    1.0  \n",
       "0.50  77.645277  0.626117  280.0455  0.761288  2.193599    2.0  \n",
       "0.75  83.648598  0.726633  306.0625  0.796361  2.381612    2.0  "
      ]
     },
     "execution_count": 21,
     "metadata": {},
     "output_type": "execute_result"
    }
   ],
   "source": [
    "# Nilai di posisi tertentu pada sebuah data\n",
    "gandum_df.quantile([.25, .5, .75], interpolation='linear') # Menampilkan Q1, Q2, dan Q3 dengan metode interpolasi linear"
   ]
  },
  {
   "cell_type": "markdown",
   "id": "competitive-argentina",
   "metadata": {},
   "source": [
    "## 1.10. Interquartile Range/Jangkauan Interkuartil"
   ]
  },
  {
   "cell_type": "code",
   "execution_count": 15,
   "id": "37a04059",
   "metadata": {},
   "outputs": [
    {
     "data": {
      "text/plain": [
       "id              249.500000\n",
       "Daerah         1452.750000\n",
       "SumbuUtama       24.930694\n",
       "SumbuKecil        5.131582\n",
       "Keunikan          0.043902\n",
       "AreaBulatan    1484.000000\n",
       "Diameter         11.903290\n",
       "KadarAir          0.154001\n",
       "Keliling         50.179500\n",
       "Bulatan           0.064370\n",
       "Ransum            0.397673\n",
       "Kelas             1.000000\n",
       "dtype: float64"
      ]
     },
     "execution_count": 15,
     "metadata": {},
     "output_type": "execute_result"
    }
   ],
   "source": [
    "# Kuartil 3 dikurangi Kuartil 1\n",
    "IQR = gandum_df.select_dtypes(include=['int64','float64'])\n",
    "Q1 = IQR.quantile(.25)\n",
    "Q3 = IQR.quantile(.75)\n",
    "Q3 - Q1"
   ]
  },
  {
   "cell_type": "markdown",
   "id": "vocational-portfolio",
   "metadata": {},
   "source": [
    "## 1.11. Skewness"
   ]
  },
  {
   "cell_type": "code",
   "execution_count": 16,
   "id": "1ef87e4f",
   "metadata": {},
   "outputs": [
    {
     "data": {
      "text/plain": [
       "id             0.000000\n",
       "Daerah         0.238144\n",
       "SumbuUtama     0.761529\n",
       "SumbuKecil    -0.010828\n",
       "Keunikan      -1.623472\n",
       "AreaBulatan    0.257560\n",
       "Diameter       0.002725\n",
       "KadarAir       0.493661\n",
       "Keliling       0.733627\n",
       "Bulatan       -3.599237\n",
       "Ransum        -0.658188\n",
       "Kelas         -0.008024\n",
       "dtype: float64"
      ]
     },
     "execution_count": 16,
     "metadata": {},
     "output_type": "execute_result"
    }
   ],
   "source": [
    "# Ukuran simetris data\n",
    "gandum_df.skew()"
   ]
  },
  {
   "cell_type": "markdown",
   "id": "acting-rabbit",
   "metadata": {},
   "source": [
    "## 1.12. Kurtosis"
   ]
  },
  {
   "cell_type": "code",
   "execution_count": 17,
   "id": "7bc26c59",
   "metadata": {},
   "outputs": [
    {
     "data": {
      "text/plain": [
       "id             -1.200000\n",
       "Daerah         -0.434631\n",
       "SumbuUtama      4.330534\n",
       "SumbuKecil      0.475568\n",
       "Keunikan        2.917256\n",
       "AreaBulatan    -0.409685\n",
       "Diameter       -0.466455\n",
       "KadarAir       -0.740326\n",
       "Keliling        2.272685\n",
       "Bulatan        29.975096\n",
       "Ransum         -0.428656\n",
       "Kelas          -2.007984\n",
       "dtype: float64"
      ]
     },
     "execution_count": 17,
     "metadata": {},
     "output_type": "execute_result"
    }
   ],
   "source": [
    "# Derajat keruncingan data\n",
    "gandum_df.kurtosis()"
   ]
  },
  {
   "cell_type": "markdown",
   "id": "corrected-glory",
   "metadata": {},
   "source": [
    "# 2.  Visualisasi Plot Distribusi untuk setiap kolom numerik pada data 'Gandum'"
   ]
  },
  {
   "cell_type": "markdown",
   "id": "sapphire-reviewer",
   "metadata": {},
   "source": [
    "## 2.1. Kolom 'Daerah'"
   ]
  },
  {
   "cell_type": "markdown",
   "id": "demonstrated-nomination",
   "metadata": {},
   "source": [
    "### 2.1.1. Histogram Kolom 'Daerah'"
   ]
  },
  {
   "cell_type": "code",
   "execution_count": 18,
   "id": "7d42efe4",
   "metadata": {
    "scrolled": false
   },
   "outputs": [
    {
     "data": {
      "text/plain": [
       "<AxesSubplot:ylabel='Frequency'>"
      ]
     },
     "execution_count": 18,
     "metadata": {},
     "output_type": "execute_result"
    },
    {
     "data": {
      "image/png": "[encoded data removed]",
      "text/plain": [
       "<Figure size 432x288 with 1 Axes>"
      ]
     },
     "metadata": {
      "needs_background": "light"
     },
     "output_type": "display_data"
    }
   ],
   "source": [
    "gandum_df[['Daerah']].plot(kind=\"hist\", rwidth=0.8)"
   ]
  },
  {
   "cell_type": "markdown",
   "id": "strange-wrong",
   "metadata": {},
   "source": [
    "### 2.1.2. BoxPlot Kolom 'Daerah'"
   ]
  },
  {
   "cell_type": "code",
   "execution_count": 19,
   "id": "3f66e687",
   "metadata": {},
   "outputs": [
    {
     "data": {
      "text/plain": [
       "<AxesSubplot:>"
      ]
     },
     "execution_count": 19,
     "metadata": {},
     "output_type": "execute_result"
    },
    {
     "data": {
      "image/png": "[encoded data removed]",
      "text/plain": [
       "<Figure size 432x288 with 1 Axes>"
      ]
     },
     "metadata": {
      "needs_background": "light"
     },
     "output_type": "display_data"
    }
   ],
   "source": [
    "gandum_df.boxplot(column=['Daerah'])"
   ]
  },
  {
   "cell_type": "markdown",
   "id": "billion-maryland",
   "metadata": {},
   "source": [
    "- Berdasarkan Histogram, dapat dilihat dan diketahui bahwa data pada kolom 'Daerah' tidak berdistribusi normal karena data tersebut *positively skewed* <br/>\n",
    "- Berdasarkan BoxPlot, dapat dilihat dan diketahui bahwa data pada kolom 'Daerah' memiliki Nilai Minimum sebesar ±2500, Kuartil Pertama (Q<sub>1</sub>) bernilai ±4000, Median sebesar ±4750, Kuartil Ketiga (Q<sub>3</sub>) bernilai ±5500, dan Nilai Maksimum sebesar ±7500 sehingga didapat Interquartile Range (IQR) dari data ini bernilai ±1500 (Q<sub>3</sub>-Q<sub>1</sub>) <br/>\n",
    "- Selain itu, dapat diketahui dari BoxPlot pula bahwa jangkauan (jarak antara nilai minimum dan maksimum) data pada kolom 'Daerah' lumayan besar, tetapi InterQuartile Range data tersebut tidak terlalu besar"
   ]
  },
  {
   "cell_type": "markdown",
   "id": "recovered-wallace",
   "metadata": {},
   "source": [
    "## 2.2. Kolom 'SumbuUtama'"
   ]
  },
  {
   "cell_type": "markdown",
   "id": "herbal-result",
   "metadata": {},
   "source": [
    "### 2.2.1. Histogram Kolom 'SumbuUtama'"
   ]
  },
  {
   "cell_type": "code",
   "execution_count": 365,
   "id": "d35849d3",
   "metadata": {},
   "outputs": [
    {
     "data": {
      "text/plain": [
       "<AxesSubplot:ylabel='Frequency'>"
      ]
     },
     "execution_count": 365,
     "metadata": {},
     "output_type": "execute_result"
    },
    {
     "data": {
      "image/png": "[encoded data removed]",
      "text/plain": [
       "<Figure size 432x288 with 1 Axes>"
      ]
     },
     "metadata": {
      "needs_background": "light"
     },
     "output_type": "display_data"
    }
   ],
   "source": [
    "gandum_df[['SumbuUtama']].plot(kind=\"hist\", rwidth=0.8)"
   ]
  },
  {
   "cell_type": "markdown",
   "id": "essential-exercise",
   "metadata": {},
   "source": [
    "### 2.2.2. BoxPlot Kolom 'SumbuUtama'"
   ]
  },
  {
   "cell_type": "code",
   "execution_count": 366,
   "id": "typical-barrel",
   "metadata": {},
   "outputs": [
    {
     "data": {
      "text/plain": [
       "<AxesSubplot:>"
      ]
     },
     "execution_count": 366,
     "metadata": {},
     "output_type": "execute_result"
    },
    {
     "data": {
      "image/png": "[encoded data removed]",
      "text/plain": [
       "<Figure size 432x288 with 1 Axes>"
      ]
     },
     "metadata": {
      "needs_background": "light"
     },
     "output_type": "display_data"
    }
   ],
   "source": [
    "gandum_df.boxplot(column=['SumbuUtama'])"
   ]
  },
  {
   "cell_type": "markdown",
   "id": "listed-afternoon",
   "metadata": {},
   "source": [
    "- Berdasarkan Histogram, dapat dilihat dan diketahui bahwa data pada kolom 'SumbuUtama' tidak berdistribusi normal karena data tersebut *positively skewed* <br/>\n",
    "- Berdasarkan BoxPlot, dapat dilihat dan diketahui bahwa data pada kolom 'SumbuUtama' memiliki Nilai Minimum sebesar ±75, Kuartil Pertama (Q<sub>1</sub>) bernilai ±100, Median sebesar ±120, Kuartil Ketiga (Q<sub>3</sub>) bernilai ±130, dan Nilai Maksimum sebesar ±150 sehingga didapat Interquartile Range (IQR) dari data ini bernilai ±30 (Q<sub>3</sub>-Q<sub>1</sub>) <br/>\n",
    "- Selain itu, dapat diketahui dari BoxPlot pula bahwa jangkauan (jarak antara nilai minimum dan maksimum) data pada kolom 'Daerah' dan InterQuartile Range data tersebut tidak terlalu besar <br/>\n",
    "- Data tersebut juga merupakan data *Outlier Atas* karena terlihat lebih banyak pencilan pada bagian atas data di BoxPlot"
   ]
  },
  {
   "cell_type": "markdown",
   "id": "sacred-consideration",
   "metadata": {},
   "source": [
    "## 2.3. Kolom 'SumbuKecil'"
   ]
  },
  {
   "cell_type": "markdown",
   "id": "foreign-circus",
   "metadata": {},
   "source": [
    "### 2.3.1. Histogram Kolom 'SumbuKecil'"
   ]
  },
  {
   "cell_type": "code",
   "execution_count": 367,
   "id": "atlantic-naples",
   "metadata": {},
   "outputs": [
    {
     "data": {
      "text/plain": [
       "<AxesSubplot:ylabel='Frequency'>"
      ]
     },
     "execution_count": 367,
     "metadata": {},
     "output_type": "execute_result"
    },
    {
     "data": {
      "image/png": "[encoded data removed]",
      "text/plain": [
       "<Figure size 432x288 with 1 Axes>"
      ]
     },
     "metadata": {
      "needs_background": "light"
     },
     "output_type": "display_data"
    }
   ],
   "source": [
    "gandum_df[['SumbuKecil']].plot(kind=\"hist\", rwidth=0.8)"
   ]
  },
  {
   "cell_type": "markdown",
   "id": "native-stream",
   "metadata": {},
   "source": [
    "### 2.3.2. Boxplot Kolom 'SumbuKecil'"
   ]
  },
  {
   "cell_type": "code",
   "execution_count": 368,
   "id": "romantic-witch",
   "metadata": {},
   "outputs": [
    {
     "data": {
      "text/plain": [
       "<AxesSubplot:>"
      ]
     },
     "execution_count": 368,
     "metadata": {},
     "output_type": "execute_result"
    },
    {
     "data": {
      "image/png": "[encoded data removed]",
      "text/plain": [
       "<Figure size 432x288 with 1 Axes>"
      ]
     },
     "metadata": {
      "needs_background": "light"
     },
     "output_type": "display_data"
    }
   ],
   "source": [
    "gandum_df.boxplot(column=['SumbuKecil'])"
   ]
  },
  {
   "cell_type": "markdown",
   "id": "particular-chester",
   "metadata": {},
   "source": [
    "- Berdasarkan Histogram, dapat dilihat dan diketahui bahwa data pada kolom 'SumbuKecil' cenderung berdistribusi normal karena data tersebut tidak memiliki *skew* (normal) <br/>\n",
    "- Berdasarkan BoxPlot, dapat dilihat dan diketahui bahwa data pada kolom 'SumbuKecil' memiliki Nilai Minimum sebesar ±45, Kuartil Pertama (Q<sub>1</sub>) bernilai ±50, Median sebesar ±55, Kuartil Ketiga (Q<sub>3</sub>) bernilai ±55, dan Nilai Maksimum sebesar ±65 sehingga didapat Interquartile Range (IQR) dari data ini bernilai ±5 (Q<sub>3</sub>-Q<sub>1</sub>) <br/>\n",
    "- Selain itu, dapat diketahui dari BoxPlot pula bahwa jangkauan (jarak antara nilai minimum dan maksimum) data pada kolom 'SumbuKecil' dan InterQuartile Range data tersebut tidak terlalu besar <br/>\n",
    "- Dapat disimpulkan bahwa data tersebut juga merupakan data *Outlier Bawah* karena terlihat lebih banyak pencilan pada bagian bawah di BoxPlot"
   ]
  },
  {
   "cell_type": "markdown",
   "id": "colonial-tunnel",
   "metadata": {},
   "source": [
    "## 2.4. Kolom 'Keunikan'"
   ]
  },
  {
   "cell_type": "markdown",
   "id": "bottom-breath",
   "metadata": {},
   "source": [
    "### 2.4.1. Histogram Kolom 'Keunikan'"
   ]
  },
  {
   "cell_type": "code",
   "execution_count": 369,
   "id": "future-storage",
   "metadata": {},
   "outputs": [
    {
     "data": {
      "text/plain": [
       "<AxesSubplot:ylabel='Frequency'>"
      ]
     },
     "execution_count": 369,
     "metadata": {},
     "output_type": "execute_result"
    },
    {
     "data": {
      "image/png": "[encoded data removed]",
      "text/plain": [
       "<Figure size 432x288 with 1 Axes>"
      ]
     },
     "metadata": {
      "needs_background": "light"
     },
     "output_type": "display_data"
    }
   ],
   "source": [
    "gandum_df[['Keunikan']].plot(kind=\"hist\", rwidth=0.8)"
   ]
  },
  {
   "cell_type": "markdown",
   "id": "cooked-ancient",
   "metadata": {},
   "source": [
    "### 2.4.2. BoxPlot Kolom 'Keunikan'"
   ]
  },
  {
   "cell_type": "code",
   "execution_count": 370,
   "id": "nervous-agriculture",
   "metadata": {},
   "outputs": [
    {
     "data": {
      "text/plain": [
       "<AxesSubplot:>"
      ]
     },
     "execution_count": 370,
     "metadata": {},
     "output_type": "execute_result"
    },
    {
     "data": {
      "image/png": "[encoded data removed]",
      "text/plain": [
       "<Figure size 432x288 with 1 Axes>"
      ]
     },
     "metadata": {
      "needs_background": "light"
     },
     "output_type": "display_data"
    }
   ],
   "source": [
    "gandum_df.boxplot(column=['Keunikan'])"
   ]
  },
  {
   "cell_type": "markdown",
   "id": "departmental-omaha",
   "metadata": {},
   "source": [
    "- Berdasarkan Histogram, dapat dilihat dan diketahui bahwa data pada kolom 'Keunikan' tidak berdistribusi normal karena data tersebut *negatively skewed* <br/>\n",
    "- Berdasarkan BoxPlot, dapat dilihat dan diketahui bahwa data pada kolom 'Keunikan' memiliki Nilai Minimum sebesar ±0.8, Kuartil Pertama (Q<sub>1</sub>) bernilai ±0.8625, Median sebesar ±0.8875, Kuartil Ketiga (Q<sub>3</sub>) bernilai ±0.9, dan Nilai Maksimum sebesar ±0.9125 sehingga didapat Interquartile Range (IQR) dari data ini bernilai ±0.0375 (Q<sub>3</sub>-Q<sub>1</sub>) <br/>\n",
    "- Selain itu, dapat diketahui dari BoxPlot pula bahwa jangkauan (jarak antara nilai minimum dan maksimum) data pada kolom 'Keunikan' dan InterQuartile Range data tersebut tidak terlalu besar <br/>\n",
    "- Dapat disimpulkan bahwa data tersebut juga merupakan data *Outlier Bawah* karena terlihat lebih banyak pencilan pada bagian bawah di BoxPlot"
   ]
  },
  {
   "cell_type": "markdown",
   "id": "tutorial-martial",
   "metadata": {},
   "source": [
    "## 2.5. Kolom 'AreaBulatan'"
   ]
  },
  {
   "cell_type": "markdown",
   "id": "original-business",
   "metadata": {},
   "source": [
    "### 2.5.1. Histogram Kolom 'AreaBulatan'"
   ]
  },
  {
   "cell_type": "code",
   "execution_count": 371,
   "id": "hungarian-position",
   "metadata": {},
   "outputs": [
    {
     "data": {
      "text/plain": [
       "<AxesSubplot:ylabel='Frequency'>"
      ]
     },
     "execution_count": 371,
     "metadata": {},
     "output_type": "execute_result"
    },
    {
     "data": {
      "image/png": "[encoded data removed]",
      "text/plain": [
       "<Figure size 432x288 with 1 Axes>"
      ]
     },
     "metadata": {
      "needs_background": "light"
     },
     "output_type": "display_data"
    }
   ],
   "source": [
    "gandum_df[['AreaBulatan']].plot(kind=\"hist\", rwidth=0.8)"
   ]
  },
  {
   "cell_type": "markdown",
   "id": "fallen-popularity",
   "metadata": {},
   "source": [
    "### 2.5.2. BoxPlot Kolom 'AreaBulatan'"
   ]
  },
  {
   "cell_type": "code",
   "execution_count": 372,
   "id": "female-earth",
   "metadata": {},
   "outputs": [
    {
     "data": {
      "text/plain": [
       "<AxesSubplot:>"
      ]
     },
     "execution_count": 372,
     "metadata": {},
     "output_type": "execute_result"
    },
    {
     "data": {
      "image/png": "[encoded data removed]",
      "text/plain": [
       "<Figure size 432x288 with 1 Axes>"
      ]
     },
     "metadata": {
      "needs_background": "light"
     },
     "output_type": "display_data"
    }
   ],
   "source": [
    "gandum_df.boxplot(column=['AreaBulatan'])"
   ]
  },
  {
   "cell_type": "markdown",
   "id": "english-dress",
   "metadata": {},
   "source": [
    "- Berdasarkan Histogram, dapat dilihat dan diketahui bahwa data pada kolom 'AreaBulatan' tidak berdistribusi normal karena data tersebut *positively skewed* <br/>\n",
    "- Berdasarkan BoxPlot, dapat dilihat dan diketahui bahwa data pada kolom 'AreaBulatan' memiliki Nilai Minimum sebesar ±2500, Kuartil Pertama (Q<sub>1</sub>) bernilai ±4000, Median sebesar ±5000, Kuartil Ketiga (Q<sub>3</sub>) bernilai ±5500, dan Nilai Maksimum sebesar ±7500 sehingga didapat Interquartile Range (IQR) dari data ini bernilai ±1500 (Q<sub>3</sub>-Q<sub>1</sub>) <br/>\n",
    "- Selain itu, dapat diketahui dari BoxPlot pula bahwa jangkauan (jarak antara nilai minimum dan maksimum) data pada kolom 'AreaBulatan' lumayan besar, tetapi InterQuartile Range data tersebut tidak terlalu besar"
   ]
  },
  {
   "cell_type": "markdown",
   "id": "alpha-bishop",
   "metadata": {},
   "source": [
    "## 2.6. Kolom 'Diameter'"
   ]
  },
  {
   "cell_type": "markdown",
   "id": "incredible-analyst",
   "metadata": {},
   "source": [
    "### 2.6.1. Histogram Kolom 'Diameter'"
   ]
  },
  {
   "cell_type": "code",
   "execution_count": 373,
   "id": "canadian-reservoir",
   "metadata": {},
   "outputs": [
    {
     "data": {
      "text/plain": [
       "<AxesSubplot:ylabel='Frequency'>"
      ]
     },
     "execution_count": 373,
     "metadata": {},
     "output_type": "execute_result"
    },
    {
     "data": {
      "image/png": "[encoded data removed]",
      "text/plain": [
       "<Figure size 432x288 with 1 Axes>"
      ]
     },
     "metadata": {
      "needs_background": "light"
     },
     "output_type": "display_data"
    }
   ],
   "source": [
    "gandum_df[['Diameter']].plot(kind=\"hist\", rwidth=0.8)"
   ]
  },
  {
   "cell_type": "markdown",
   "id": "accredited-bookmark",
   "metadata": {},
   "source": [
    "### 2.6.2. BoxPlot Kolom 'Diameter'"
   ]
  },
  {
   "cell_type": "code",
   "execution_count": 374,
   "id": "laughing-multimedia",
   "metadata": {},
   "outputs": [
    {
     "data": {
      "text/plain": [
       "<AxesSubplot:>"
      ]
     },
     "execution_count": 374,
     "metadata": {},
     "output_type": "execute_result"
    },
    {
     "data": {
      "image/png": "[encoded data removed]",
      "text/plain": [
       "<Figure size 432x288 with 1 Axes>"
      ]
     },
     "metadata": {
      "needs_background": "light"
     },
     "output_type": "display_data"
    }
   ],
   "source": [
    "gandum_df.boxplot(column=['Diameter'])"
   ]
  },
  {
   "cell_type": "markdown",
   "id": "alternative-session",
   "metadata": {},
   "source": [
    "- Berdasarkan Histogram, dapat dilihat dan diketahui bahwa data pada kolom 'Diameter' berdistribusi normal karena data tersebut tidak memiliki *skew* (normal) <br/>\n",
    "- Berdasarkan BoxPlot, dapat dilihat dan diketahui bahwa data pada kolom 'Diameter' memiliki Nilai Minimum sebesar ±57.5, Kuartil Pertama (Q<sub>1</sub>) bernilai ±72.5, Median sebesar ±77.5, Kuartil Ketiga (Q<sub>3</sub>) bernilai ±85, dan Nilai Maksimum sebesar ±97.5 sehingga didapat Interquartile Range (IQR) dari data ini bernilai ±12.5 (Q<sub>3</sub>-Q<sub>1</sub>) <br/>\n",
    "- Selain itu, dapat diketahui dari BoxPlot pula bahwa jangkauan (jarak antara nilai minimum dan maksimum) data pada kolom 'Diameter' lumayan besar, tetapi InterQuartile Range data tersebut tidak terlalu besar"
   ]
  },
  {
   "cell_type": "markdown",
   "id": "instrumental-fabric",
   "metadata": {},
   "source": [
    "## 2.7. Kolom 'KadarAir'"
   ]
  },
  {
   "cell_type": "markdown",
   "id": "oriental-burton",
   "metadata": {},
   "source": [
    "### 2.7.1. Histogram Kolom 'KadarAir'"
   ]
  },
  {
   "cell_type": "code",
   "execution_count": 375,
   "id": "subsequent-bleeding",
   "metadata": {},
   "outputs": [
    {
     "data": {
      "text/plain": [
       "<AxesSubplot:ylabel='Frequency'>"
      ]
     },
     "execution_count": 375,
     "metadata": {},
     "output_type": "execute_result"
    },
    {
     "data": {
      "image/png": "[encoded data removed]",
      "text/plain": [
       "<Figure size 432x288 with 1 Axes>"
      ]
     },
     "metadata": {
      "needs_background": "light"
     },
     "output_type": "display_data"
    }
   ],
   "source": [
    "gandum_df[['KadarAir']].plot(kind=\"hist\", rwidth=0.8)"
   ]
  },
  {
   "cell_type": "markdown",
   "id": "assigned-egypt",
   "metadata": {},
   "source": [
    "### 2.7.2. BoxPlot Kolom 'KadarAir'"
   ]
  },
  {
   "cell_type": "code",
   "execution_count": 376,
   "id": "waiting-invitation",
   "metadata": {},
   "outputs": [
    {
     "data": {
      "text/plain": [
       "<AxesSubplot:>"
      ]
     },
     "execution_count": 376,
     "metadata": {},
     "output_type": "execute_result"
    },
    {
     "data": {
      "image/png": "[encoded data removed]",
      "text/plain": [
       "<Figure size 432x288 with 1 Axes>"
      ]
     },
     "metadata": {
      "needs_background": "light"
     },
     "output_type": "display_data"
    }
   ],
   "source": [
    "gandum_df.boxplot(column=['KadarAir'])"
   ]
  },
  {
   "cell_type": "markdown",
   "id": "mounted-netscape",
   "metadata": {},
   "source": [
    "- Berdasarkan Histogram, dapat dilihat dan diketahui bahwa data pada kolom 'KadarAir' tidak berdistribusi normal karena data tersebut *positively skewed* <br/>\n",
    "- Berdasarkan BoxPlot, dapat dilihat dan diketahui bahwa data pada kolom 'KadarAir' memiliki Nilai Minimum sebesar ±0.4, Kuartil Pertama (Q<sub>1</sub>) bernilai ±0.6, Median sebesar ±0.6, Kuartil Ketiga (Q<sub>3</sub>) bernilai ±0.7, dan Nilai Maksimum sebesar ±0.9 sehingga didapat Interquartile Range (IQR) dari data ini bernilai ±0.1 (Q<sub>3</sub>-Q<sub>1</sub>) <br/>\n",
    "- Selain itu, dapat diketahui dari BoxPlot pula bahwa jangkauan (jarak antara nilai minimum dan maksimum) data pada kolom 'KadarAir' lumayan besar, tetapi InterQuartile Range data tersebut tidak terlalu besar"
   ]
  },
  {
   "cell_type": "markdown",
   "id": "civilian-directive",
   "metadata": {},
   "source": [
    "## 2.8. Kolom 'Keliling'"
   ]
  },
  {
   "cell_type": "markdown",
   "id": "processed-wilson",
   "metadata": {},
   "source": [
    "### 2.8.1. Histogram Kolom 'Keliling'"
   ]
  },
  {
   "cell_type": "code",
   "execution_count": 377,
   "id": "south-adult",
   "metadata": {},
   "outputs": [
    {
     "data": {
      "text/plain": [
       "<AxesSubplot:ylabel='Frequency'>"
      ]
     },
     "execution_count": 377,
     "metadata": {},
     "output_type": "execute_result"
    },
    {
     "data": {
      "image/png": "[encoded data removed]",
      "text/plain": [
       "<Figure size 432x288 with 1 Axes>"
      ]
     },
     "metadata": {
      "needs_background": "light"
     },
     "output_type": "display_data"
    }
   ],
   "source": [
    "gandum_df[['Keliling']].plot(kind=\"hist\", rwidth=0.8)"
   ]
  },
  {
   "cell_type": "markdown",
   "id": "green-storm",
   "metadata": {},
   "source": [
    "### 2.8.2. BoxPlot Kolom 'Keliling'"
   ]
  },
  {
   "cell_type": "code",
   "execution_count": 378,
   "id": "demographic-owner",
   "metadata": {},
   "outputs": [
    {
     "data": {
      "text/plain": [
       "<AxesSubplot:>"
      ]
     },
     "execution_count": 378,
     "metadata": {},
     "output_type": "execute_result"
    },
    {
     "data": {
      "image/png": "[encoded data removed]",
      "text/plain": [
       "<Figure size 432x288 with 1 Axes>"
      ]
     },
     "metadata": {
      "needs_background": "light"
     },
     "output_type": "display_data"
    }
   ],
   "source": [
    "gandum_df.boxplot(column=['Keliling'])"
   ]
  },
  {
   "cell_type": "markdown",
   "id": "guided-agency",
   "metadata": {},
   "source": [
    "- Berdasarkan Histogram, dapat dilihat dan diketahui bahwa data pada kolom 'Keliling' tidak berdistribusi normal karena data tersebut *positively skewed* <br/>\n",
    "- Berdasarkan BoxPlot, dapat dilihat dan diketahui bahwa data pada kolom 'Keliling' memiliki Nilai Minimum sebesar ±200, Kuartil Pertama (Q<sub>1</sub>) bernilai ±250, Median sebesar ±275, Kuartil Ketiga (Q<sub>3</sub>) bernilai ±300, dan Nilai Maksimum sebesar ±375 sehingga didapat Interquartile Range (IQR) dari data ini bernilai ±50 (Q<sub>3</sub>-Q<sub>1</sub>) <br/>\n",
    "- Selain itu, dapat diketahui dari BoxPlot pula bahwa jangkauan (jarak antara nilai minimum dan maksimum) data pada kolom 'Keliling' dan InterQuartile Range data tersebut tidak terlalu besar <br/>\n",
    "- Dapat disimpulkan bahwa data tersebut juga merupakan data *Outlier Atas* karena terlihat lebih banyak pencilan pada bagian atas di BoxPlot"
   ]
  },
  {
   "cell_type": "markdown",
   "id": "olympic-continent",
   "metadata": {},
   "source": [
    "## 2.9. Kolom 'Bulatan'"
   ]
  },
  {
   "cell_type": "markdown",
   "id": "compressed-shelf",
   "metadata": {},
   "source": [
    "### 2.9.1. Histogram Kolom 'Bulatan'"
   ]
  },
  {
   "cell_type": "code",
   "execution_count": 379,
   "id": "independent-actress",
   "metadata": {},
   "outputs": [
    {
     "data": {
      "text/plain": [
       "<AxesSubplot:ylabel='Frequency'>"
      ]
     },
     "execution_count": 379,
     "metadata": {},
     "output_type": "execute_result"
    },
    {
     "data": {
      "image/png": "[encoded data removed]",
      "text/plain": [
       "<Figure size 432x288 with 1 Axes>"
      ]
     },
     "metadata": {
      "needs_background": "light"
     },
     "output_type": "display_data"
    }
   ],
   "source": [
    "gandum_df[['Bulatan']].plot(kind=\"hist\", rwidth=0.8)"
   ]
  },
  {
   "cell_type": "markdown",
   "id": "fuzzy-arrest",
   "metadata": {},
   "source": [
    "### 2.9.2. BoxPlot Kolom 'Bulatan'"
   ]
  },
  {
   "cell_type": "code",
   "execution_count": 380,
   "id": "russian-infrared",
   "metadata": {},
   "outputs": [
    {
     "data": {
      "text/plain": [
       "<AxesSubplot:>"
      ]
     },
     "execution_count": 380,
     "metadata": {},
     "output_type": "execute_result"
    },
    {
     "data": {
      "image/png": "[encoded data removed]",
      "text/plain": [
       "<Figure size 432x288 with 1 Axes>"
      ]
     },
     "metadata": {
      "needs_background": "light"
     },
     "output_type": "display_data"
    }
   ],
   "source": [
    "gandum_df.boxplot(column=['Bulatan'])"
   ]
  },
  {
   "cell_type": "markdown",
   "id": "original-family",
   "metadata": {},
   "source": [
    "- Berdasarkan Histogram, dapat dilihat dan diketahui bahwa data pada kolom 'Bulatan' tidak berdistribusi normal karena data tersebut *negatively skewed* <br/>\n",
    "- Berdasarkan BoxPlot, dapat dilihat dan diketahui bahwa data pada kolom 'Bulatan' memiliki Nilai Minimum sebesar ±0.65, Kuartil Pertama (Q<sub>1</sub>) bernilai ±0.75, Median sebesar ±0.75, Kuartil Ketiga (Q<sub>3</sub>) bernilai ±0.8, dan Nilai Maksimum sebesar ±0.9 sehingga didapat Interquartile Range (IQR) dari data ini bernilai ±0.05 (Q<sub>3</sub>-Q<sub>1</sub>) <br/>\n",
    "- Selain itu, dapat diketahui dari BoxPlot pula bahwa jangkauan (jarak antara nilai minimum dan maksimum) data pada kolom 'Bulatan' dan InterQuartile Range data tersebut tidak terlalu besar <br/>\n",
    "- Dapat disimpulkan bahwa data tersebut juga merupakan data *Outlier Bawah* karena terlihat lebih banyak pencilan pada bagian bawah di BoxPlot"
   ]
  },
  {
   "cell_type": "markdown",
   "id": "surprised-flight",
   "metadata": {},
   "source": [
    "## 2.10. Kolom 'Ransum'"
   ]
  },
  {
   "cell_type": "markdown",
   "id": "separated-slovakia",
   "metadata": {},
   "source": [
    "### 2.10.1. Histogram Kolom 'Ransum'"
   ]
  },
  {
   "cell_type": "code",
   "execution_count": 381,
   "id": "absent-texture",
   "metadata": {},
   "outputs": [
    {
     "data": {
      "text/plain": [
       "<AxesSubplot:ylabel='Frequency'>"
      ]
     },
     "execution_count": 381,
     "metadata": {},
     "output_type": "execute_result"
    },
    {
     "data": {
      "image/png": "[encoded data removed]",
      "text/plain": [
       "<Figure size 432x288 with 1 Axes>"
      ]
     },
     "metadata": {
      "needs_background": "light"
     },
     "output_type": "display_data"
    }
   ],
   "source": [
    "gandum_df[['Ransum']].plot(kind=\"hist\", rwidth=0.8)"
   ]
  },
  {
   "cell_type": "markdown",
   "id": "opening-polish",
   "metadata": {},
   "source": [
    "### 2.10.2. BoxPlot kolom 'Ransum'"
   ]
  },
  {
   "cell_type": "code",
   "execution_count": 382,
   "id": "macro-blend",
   "metadata": {},
   "outputs": [
    {
     "data": {
      "text/plain": [
       "<AxesSubplot:>"
      ]
     },
     "execution_count": 382,
     "metadata": {},
     "output_type": "execute_result"
    },
    {
     "data": {
      "image/png": "[encoded data removed]",
      "text/plain": [
       "<Figure size 432x288 with 1 Axes>"
      ]
     },
     "metadata": {
      "needs_background": "light"
     },
     "output_type": "display_data"
    }
   ],
   "source": [
    "gandum_df.boxplot(column=['Ransum'])"
   ]
  },
  {
   "cell_type": "markdown",
   "id": "earned-karaoke",
   "metadata": {},
   "source": [
    "- Berdasarkan Histogram, dapat dilihat dan diketahui bahwa data pada kolom 'Ransum' tidak berdistribusi normal karena data tersebut *negatively skewed* <br/>\n",
    "- Berdasarkan BoxPlot, dapat dilihat dan diketahui bahwa data pada kolom 'Ransum' memiliki Nilai Minimum sebesar ±1.4, Kuartil Pertama (Q<sub>1</sub>) bernilai ±2.0, Median sebesar ±2.2, Kuartil Ketiga (Q<sub>3</sub>) bernilai ±2.4, dan Nilai Maksimum sebesar ±2.5 sehingga didapat Interquartile Range (IQR) dari data ini bernilai ±0.4 (Q<sub>3</sub>-Q<sub>1</sub>) <br/>\n",
    "- Selain itu, dapat diketahui dari BoxPlot pula bahwa jangkauan (jarak antara nilai minimum dan maksimum) data pada kolom 'Ransum' lumayan besar, tetapi InterQuartile Range data tersebut tidak terlalu besar"
   ]
  },
  {
   "cell_type": "markdown",
   "id": "informed-valley",
   "metadata": {},
   "source": [
    "# 3. Uji Normalitas Setiap Kolom pada Data 'Gandum'"
   ]
  },
  {
   "cell_type": "markdown",
   "id": "colonial-fraud",
   "metadata": {},
   "source": [
    "Uji normalitas yang digunakan adalah Shapiro-Wilk Test karena dikembangkan khusus untuk uji normalitas.\n",
    "Interpretasi:<br/>\n",
    "● Jika P-Value dari Shapiro-Wilk Test lebih besar dari 0.05, diasumsikan berdistribusi normal.<br/>\n",
    "● Jika P-Value dari Shapiro-Wilk Test lebih kecil dari 0.05, diasumsikan tidak berdistribusi normal.<br/>"
   ]
  },
  {
   "cell_type": "markdown",
   "id": "fixed-ownership",
   "metadata": {},
   "source": [
    "## 3.1 Uji normalitas kolom \"Daerah\""
   ]
  },
  {
   "cell_type": "markdown",
   "id": "relevant-celebrity",
   "metadata": {},
   "source": [
    "Dilihat dari histogram 2.1.1, kolom \"Daerah\" TIDAK berdistribusi normal."
   ]
  },
  {
   "cell_type": "code",
   "execution_count": 383,
   "id": "forced-ceiling",
   "metadata": {},
   "outputs": [
    {
     "name": "stdout",
     "output_type": "stream",
     "text": [
      "Statistics=0.991, p=0.003\n",
      "Kolom \"Daerah\" diasumsikan tidak berdistribusi normal\n"
     ]
    }
   ],
   "source": [
    "stat, p = stats.shapiro(gandum_df['Daerah'])\n",
    "print('Statistics=%.3f, p=%.3f' % (stat, p))\n",
    "alpha = 0.05\n",
    "if p > alpha:\n",
    "\tprint('Kolom \"Daerah\" diasumsikan berdistribusi normal')\n",
    "else:\n",
    "\tprint('Kolom \"Daerah\" diasumsikan tidak berdistribusi normal')"
   ]
  },
  {
   "cell_type": "markdown",
   "id": "increased-israeli",
   "metadata": {},
   "source": [
    "## 3.2 Uji normalitas kolom \"SumbuUtama\""
   ]
  },
  {
   "cell_type": "markdown",
   "id": "interstate-claim",
   "metadata": {},
   "source": [
    "Dilihat dari histogram 2.2.1, kolom \"SumbuUtama\" TIDAK berdistribusi normal."
   ]
  },
  {
   "cell_type": "code",
   "execution_count": 384,
   "id": "5fb619ca",
   "metadata": {},
   "outputs": [
    {
     "name": "stdout",
     "output_type": "stream",
     "text": [
      "Statistics=0.951, p=0.000\n",
      "Kolom \"SumbuUtama\" diasumsikan tidak berdistribusi normal\n"
     ]
    }
   ],
   "source": [
    "stat, p = stats.shapiro(gandum_df['SumbuUtama'])\n",
    "print('Statistics=%.3f, p=%.3f' % (stat, p))\n",
    "alpha = 0.05\n",
    "if p > alpha:\n",
    "\tprint('Kolom \"SumbuUtama\" diasumsikan berdistribusi normal')\n",
    "else:\n",
    "\tprint('Kolom \"SumbuUtama\" diasumsikan tidak berdistribusi normal')"
   ]
  },
  {
   "cell_type": "markdown",
   "id": "drawn-literature",
   "metadata": {},
   "source": [
    "## 3.3 Uji normalitas kolom \"SumbuKecil\""
   ]
  },
  {
   "cell_type": "markdown",
   "id": "terminal-trustee",
   "metadata": {},
   "source": [
    "Dilihat dari histogram 2.3.1, kolom \"SumbuKecil\" berdistribusi normal."
   ]
  },
  {
   "cell_type": "code",
   "execution_count": 385,
   "id": "71684dec",
   "metadata": {},
   "outputs": [
    {
     "name": "stdout",
     "output_type": "stream",
     "text": [
      "Statistics=0.997, p=0.423\n",
      "Kolom \"SumbuKecil\" diasumsikan berdistribusi normal\n"
     ]
    }
   ],
   "source": [
    "stat, p = stats.shapiro(gandum_df['SumbuKecil'])\n",
    "print('Statistics=%.3f, p=%.3f' % (stat, p))\n",
    "alpha = 0.05\n",
    "if p > alpha:\n",
    "\tprint('Kolom \"SumbuKecil\" diasumsikan berdistribusi normal')\n",
    "else:\n",
    "\tprint('Kolom \"SumbuKecil\" diasumsikan tidak berdistribusi normal')"
   ]
  },
  {
   "cell_type": "markdown",
   "id": "rational-notice",
   "metadata": {},
   "source": [
    "## 3.4 Uji normalitas kolom \"Keunikan\""
   ]
  },
  {
   "cell_type": "markdown",
   "id": "surprised-condition",
   "metadata": {},
   "source": [
    "Dilihat dari histogram 2.4.1, kolom \"Keunikan\" TIDAK berdistribusi normal."
   ]
  },
  {
   "cell_type": "code",
   "execution_count": 386,
   "id": "06048fa6",
   "metadata": {},
   "outputs": [
    {
     "name": "stdout",
     "output_type": "stream",
     "text": [
      "Statistics=0.831, p=0.000\n",
      "Kolom \"Keunikan\" diasumsikan tidak berdistribusi normal\n"
     ]
    }
   ],
   "source": [
    "stat, p = stats.shapiro(gandum_df['Keunikan'])\n",
    "print('Statistics=%.3f, p=%.3f' % (stat, p))\n",
    "alpha = 0.05\n",
    "if p > alpha:\n",
    "\tprint('Kolom \"Keunikan\" diasumsikan berdistribusi normal')\n",
    "else:\n",
    "\tprint('Kolom \"Keunikan\" diasumsikan tidak berdistribusi normal')"
   ]
  },
  {
   "cell_type": "markdown",
   "id": "marine-carpet",
   "metadata": {},
   "source": [
    "## 3.5 Uji normalitas kolom \"AreaBulatan\""
   ]
  },
  {
   "cell_type": "markdown",
   "id": "subtle-praise",
   "metadata": {},
   "source": [
    "Dilihat dari histogram 2.5.1, kolom \"AreaBulatan\" TIDAK berdistribusi normal."
   ]
  },
  {
   "cell_type": "code",
   "execution_count": 387,
   "id": "4536ea76",
   "metadata": {},
   "outputs": [
    {
     "name": "stdout",
     "output_type": "stream",
     "text": [
      "Statistics=0.990, p=0.002\n",
      "Kolom \"AreaBulatan\" diasumsikan tidak berdistribusi normal\n"
     ]
    }
   ],
   "source": [
    "stat, p = stats.shapiro(gandum_df['AreaBulatan'])\n",
    "print('Statistics=%.3f, p=%.3f' % (stat, p))\n",
    "alpha = 0.05\n",
    "if p > alpha:\n",
    "\tprint('Kolom \"AreaBulatan\" diasumsikan berdistribusi normal')\n",
    "else:\n",
    "\tprint('Kolom \"AreaBulatan\" diasumsikan tidak berdistribusi normal')"
   ]
  },
  {
   "cell_type": "markdown",
   "id": "intimate-schedule",
   "metadata": {},
   "source": [
    "## 3.6 Uji normalitas kolom \"Diameter\""
   ]
  },
  {
   "cell_type": "markdown",
   "id": "married-norway",
   "metadata": {},
   "source": [
    "Dilihat dari histogram 2.6.1, kolom \"Diameter\" merupakan distribusi normal."
   ]
  },
  {
   "cell_type": "code",
   "execution_count": 388,
   "id": "7fb7ff65",
   "metadata": {},
   "outputs": [
    {
     "name": "stdout",
     "output_type": "stream",
     "text": [
      "Statistics=0.995, p=0.118\n",
      "Kolom \"Diameter\" diasumsikan berdistribusi normal\n"
     ]
    }
   ],
   "source": [
    "stat, p = stats.shapiro(gandum_df['Diameter'])\n",
    "print('Statistics=%.3f, p=%.3f' % (stat, p))\n",
    "alpha = 0.05\n",
    "if p > alpha:\n",
    "\tprint('Kolom \"Diameter\" diasumsikan berdistribusi normal')\n",
    "else:\n",
    "\tprint('Kolom \"Diameter\" diasumsikan tidak berdistribusi normal')"
   ]
  },
  {
   "cell_type": "markdown",
   "id": "frozen-conducting",
   "metadata": {},
   "source": [
    "# 3.7 Uji normalitas kolom \"KadarAir\""
   ]
  },
  {
   "cell_type": "markdown",
   "id": "religious-uncertainty",
   "metadata": {},
   "source": [
    "Dilihat dari histogram 2.7.1, kolom \"KadarAir\" BUKAN merupakan distribusi normal."
   ]
  },
  {
   "cell_type": "code",
   "execution_count": 389,
   "id": "98fb4acd",
   "metadata": {},
   "outputs": [
    {
     "name": "stdout",
     "output_type": "stream",
     "text": [
      "Statistics=0.947, p=0.000\n",
      "Kolom \"KadarAir\" diasumsikan tidak berdistribusi normal\n"
     ]
    }
   ],
   "source": [
    "stat, p = stats.shapiro(gandum_df['KadarAir'])\n",
    "print('Statistics=%.3f, p=%.3f' % (stat, p))\n",
    "alpha = 0.05\n",
    "if p > alpha:\n",
    "\tprint('Kolom \"KadarAir\" diasumsikan berdistribusi normal')\n",
    "else:\n",
    "\tprint('Kolom \"KadarAir\" diasumsikan tidak berdistribusi normal')"
   ]
  },
  {
   "cell_type": "markdown",
   "id": "advance-evanescence",
   "metadata": {},
   "source": [
    "## 3.8 Uji normalitas kolom \"Keliling\""
   ]
  },
  {
   "cell_type": "markdown",
   "id": "single-brooks",
   "metadata": {},
   "source": [
    "Dilihat dari histogram 2.8.1, kolom \"Keliling\" BUKAN merupakan distribusi normal."
   ]
  },
  {
   "cell_type": "code",
   "execution_count": 390,
   "id": "f51eb7ef",
   "metadata": {},
   "outputs": [
    {
     "name": "stdout",
     "output_type": "stream",
     "text": [
      "Statistics=0.969, p=0.000\n",
      "Kolom \"Keliling\" diasumsikan tidak berdistribusi normal\n"
     ]
    }
   ],
   "source": [
    "stat, p = stats.shapiro(gandum_df['Keliling'])\n",
    "print('Statistics=%.3f, p=%.3f' % (stat, p))\n",
    "alpha = 0.05\n",
    "if p > alpha:\n",
    "\tprint('Kolom \"Keliling\" diasumsikan berdistribusi normal')\n",
    "else:\n",
    "\tprint('Kolom \"Keliling\" diasumsikan tidak berdistribusi normal')"
   ]
  },
  {
   "cell_type": "markdown",
   "id": "combined-friendship",
   "metadata": {},
   "source": [
    "## 3.9 Uji normalitas kolom \"Bulatan\""
   ]
  },
  {
   "cell_type": "markdown",
   "id": "convinced-lottery",
   "metadata": {},
   "source": [
    "Dilihat dari histogram 2.9.1, kolom \"Bulatan\" BUKAN merupakan distribusi normal."
   ]
  },
  {
   "cell_type": "code",
   "execution_count": 391,
   "id": "2640adc7",
   "metadata": {},
   "outputs": [
    {
     "name": "stdout",
     "output_type": "stream",
     "text": [
      "Statistics=0.770, p=0.000\n",
      "Kolom \"Bulatan\" diasumsikan tidak berdistribusi normal\n"
     ]
    }
   ],
   "source": [
    "stat, p = stats.shapiro(gandum_df['Bulatan'])\n",
    "print('Statistics=%.3f, p=%.3f' % (stat, p))\n",
    "alpha = 0.05\n",
    "if p > alpha:\n",
    "\tprint('Kolom \"Bulatan\" diasumsikan berdistribusi normal')\n",
    "else:\n",
    "\tprint('Kolom \"Bulatan\" diasumsikan tidak berdistribusi normal')"
   ]
  },
  {
   "cell_type": "markdown",
   "id": "described-colors",
   "metadata": {},
   "source": [
    "## 3.10 Uji normalitas kolom \"Ransum\""
   ]
  },
  {
   "cell_type": "markdown",
   "id": "integrated-ethnic",
   "metadata": {},
   "source": [
    "Dilihat dari histogram 2.10.1, kolom \"Ransum\" BUKAN merupakan distribusi normal. "
   ]
  },
  {
   "cell_type": "code",
   "execution_count": 392,
   "id": "839ff077",
   "metadata": {
    "scrolled": true
   },
   "outputs": [
    {
     "name": "stdout",
     "output_type": "stream",
     "text": [
      "Statistics=0.927, p=0.000\n",
      "Kolom \"Ransum\" diasumsikan tidak berdistribusi normal\n"
     ]
    }
   ],
   "source": [
    "stat, p = stats.shapiro(gandum_df['Ransum'])\n",
    "print('Statistics=%.3f, p=%.3f' % (stat, p))\n",
    "alpha = 0.05\n",
    "if p > alpha:\n",
    "\tprint('Kolom \"Ransum\" diasumsikan berdistribusi normal')\n",
    "else:\n",
    "\tprint('Kolom \"Ransum\" diasumsikan tidak berdistribusi normal')"
   ]
  },
  {
   "cell_type": "markdown",
   "id": "casual-daily",
   "metadata": {},
   "source": [
    "# 4. Tes Hipotesis 1 Sampel"
   ]
  },
  {
   "cell_type": "markdown",
   "id": "utility-colombia",
   "metadata": {},
   "source": [
    "## 4.1. Nilai rata-rata (μ) kolom 'Daerah' di atas 4700\n",
    "### Ambil sampel berupa 100 data pertama pada kolom 'Daerah'\n",
    "### 4.1.1. Ambil nilai hipotesis nol H₀ : μ = 4700\n",
    "### 4.1.2. Ambil nilai hipotesis alternatif H1 : μ > 4700\n",
    "### 4.1.3. Ambil tingkat signifikan α = 0.05\n",
    "### 4.1.4. Untuk jenis pengujian, digunakan Uji Hipotesis Satu Arah karena hipotesis alternatifnya berada pada satu arah, yaitu θ > θ₀\n",
    "#### Daerah kritis : z > z₀.₀₅ = 1.645, diperoleh dari P(Z < 1.645) = 0.95\n",
    "### 4.1.5. Uji Statistik\n",
    "### z = (x̄ - μ<sub>0</sub>) / (σ / sqrt(n))"
   ]
  },
  {
   "cell_type": "markdown",
   "id": "exact-storm",
   "metadata": {},
   "source": [
    "Cari x̄ dan σ"
   ]
  },
  {
   "cell_type": "code",
   "execution_count": 23,
   "id": "silent-reaction",
   "metadata": {},
   "outputs": [],
   "source": [
    "daerah = gandum_df['Daerah'].head(100) # Ambil 100 data pertama dari kolom 'Daerah' sebagai sampel\n",
    "mean = daerah.mean() # Cari mean dari sampel tersebut\n",
    "std = daerah.std() # Cari standar deviasi dari sampel tersebut"
   ]
  },
  {
   "cell_type": "markdown",
   "id": "stainless-practice",
   "metadata": {},
   "source": [
    "Didapat z"
   ]
  },
  {
   "cell_type": "code",
   "execution_count": 24,
   "id": "parallel-lounge",
   "metadata": {},
   "outputs": [
    {
     "name": "stdout",
     "output_type": "stream",
     "text": [
      "Nilai z adalah 6.067\n"
     ]
    }
   ],
   "source": [
    "z = (mean - 4700) / (std / sqrt(100))\n",
    "print(\"Nilai z adalah %.3f\" % z)"
   ]
  },
  {
   "cell_type": "markdown",
   "id": "lined-authorization",
   "metadata": {},
   "source": [
    "### 4.1.6. Uji Statistik menolak H<sub>0</sub> karena z = 6.067 > z<sub>α</sub> = 1.645, yang berarti nilai uji berada di daerah kritis.\n",
    "#### Jadi, dapat disimpulkan bahwa hipotesis \"Nilai rata-rata (μ) kolom 'Daerah' lebih dari 4700\" benar\n",
    "\n",
    "Tampilan boxplot:"
   ]
  },
  {
   "cell_type": "code",
   "execution_count": 27,
   "id": "8a063d33",
   "metadata": {},
   "outputs": [
    {
     "data": {
      "image/png": "[encoded data removed]",
      "text/plain": [
       "<Figure size 432x288 with 1 Axes>"
      ]
     },
     "metadata": {
      "needs_background": "light"
     },
     "output_type": "display_data"
    }
   ],
   "source": [
    "fig, ax = plt.subplots()\n",
    "ax.set_title('Sampel \\'Daerah\\'')\n",
    "ax.boxplot(daerah)\n",
    "plt.show()"
   ]
  },
  {
   "cell_type": "markdown",
   "id": "179eaccb",
   "metadata": {},
   "source": [
    "## 4.2. Nilai rata-rata (μ) kolom 'SumbuUtama' tidak sama dengan 116\n",
    "### Ambil sampel berupa 100 data pertama pada kolom 'SumbuUtama'\n",
    "### 4.2.1. Ambil nilai hipotesis nol H₀ : μ = 116\n",
    "### 4.2.2. Ambil nilai hipotesis alternatif H1 : μ ≠ 116\n",
    "### 4.2.3. Ambil tingkat signifikan α = 0.05\n",
    "### 4.2.4. Untuk jenis pengujian, digunakan Uji Hipotesis Dua Arah karena hipotesis alternatifnya berada di kedua arah, yaitu θ = θ₀ dan θ ≠ θ₀ \n",
    "#### Daerah kritis : z < z<sub>0.025</sub> = –1.960 atau z > z<sub>0.025</sub> = 1.960, diperoleh dari P(–1.960 < Z < 1.960) = 0.95\n",
    "### 4.2.5. Uji Statistik\n",
    "### z = (x̄ - μ₀) / (σ / sqrt(n))\n",
    "\n",
    "Cari x̄ dan σ"
   ]
  },
  {
   "cell_type": "code",
   "execution_count": 396,
   "id": "4bc29c56",
   "metadata": {},
   "outputs": [],
   "source": [
    "sumbuUtama = gandum_df['SumbuUtama'].head(100) # Ambil 100 data pertama dari kolom 'SumbuUtama' sebagai sampel\n",
    "mean = sumbuUtama.mean() # Cari mean dari sampel tersebut\n",
    "std = sumbuUtama.std() # Cari standar deviasi dari sampel tersebut"
   ]
  },
  {
   "cell_type": "markdown",
   "id": "97b3aec9",
   "metadata": {},
   "source": [
    "Didapat z,"
   ]
  },
  {
   "cell_type": "code",
   "execution_count": 397,
   "id": "3e25957a",
   "metadata": {},
   "outputs": [
    {
     "name": "stdout",
     "output_type": "stream",
     "text": [
      "Nilai z adalah 5.490\n"
     ]
    }
   ],
   "source": [
    "z = (mean - 116) / (std / sqrt(100))\n",
    "print(\"Nilai z adalah %.3f\" % z)"
   ]
  },
  {
   "cell_type": "markdown",
   "id": "b8ab230c",
   "metadata": {},
   "source": [
    "### 4.2.6. Uji Statistik menolak H₀ karena z = 5.4904 > z<sub>α</sub> = 1.960, yang berarti nilai uji berada di daerah kritis.\n",
    "#### Jadi, dapat disimpulkan bahwa hipotesis \"Nilai rata-rata (μ) kolom 'SumbuUtama' tidak sama dengan 116\" benar.\n",
    "Tampilan boxplot:"
   ]
  },
  {
   "cell_type": "code",
   "execution_count": 398,
   "id": "6ca36603",
   "metadata": {},
   "outputs": [
    {
     "data": {
      "image/png": "[encoded data removed]",
      "text/plain": [
       "<Figure size 432x288 with 1 Axes>"
      ]
     },
     "metadata": {
      "needs_background": "light"
     },
     "output_type": "display_data"
    }
   ],
   "source": [
    "fig, ax = plt.subplots()\n",
    "ax.set_title('Sampel \\'SumbuUtama\\'')\n",
    "ax.boxplot(sumbuUtama)\n",
    "plt.show()"
   ]
  },
  {
   "cell_type": "markdown",
   "id": "7846da7f",
   "metadata": {},
   "source": [
    "## 4.3. Nilai rata-rata (μ) 20 baris pertama kolom 'SumbuKecil' bukan 50\n",
    "### Ambil sampel berupa 10 data pertama pada kolom 'SumbuKecil'\n",
    "### 4.3.1. Ambil nilai hipotesis nol H₀ : μ = 50\n",
    "### 4.3.2. Ambil nilai hipotesis alternatif H1 : μ ≠ 50\n",
    "### 4.3.3. Ambil tingkat signifikan α = 0.05\n",
    "### 4.3.4. Untuk jenis pengujian, digunakan Uji Hipotesis Dua Arah karena hipotesis alternatifnya berada di kedua arah, yaitu θ = θ₀ dan θ ≠ θ₀ \n",
    "#### Daerah kritis : z < z<sub>0.025</sub> = –1.960 atau z > z<sub>0.025</sub> = 1.960, diperoleh dari P(–1.960 < Z < 1.960) = 0.95\n",
    "### 4.3.5. Uji Statistik\n",
    "### z = (x̄ - μ₀) / (σ / sqrt(n))\n",
    "\n",
    "Cari x̄ dan σ"
   ]
  },
  {
   "cell_type": "code",
   "execution_count": 399,
   "id": "f3d396bb",
   "metadata": {},
   "outputs": [],
   "source": [
    "sumbuKecil = gandum_df['SumbuKecil'].head(10) # Ambil 10 data pertama dari kolom 'SumbuKecil' sebagai sampel\n",
    "mean = sumbuKecil.mean() # Cari mean dari sampel tersebut\n",
    "std = sumbuKecil.std() # Cari standar deviasi dari sampel tersebut"
   ]
  },
  {
   "cell_type": "markdown",
   "id": "d6cad0c5",
   "metadata": {},
   "source": [
    "Didapat z,"
   ]
  },
  {
   "cell_type": "code",
   "execution_count": 400,
   "id": "473888b5",
   "metadata": {},
   "outputs": [
    {
     "name": "stdout",
     "output_type": "stream",
     "text": [
      "Nilai z adalah 4.089\n"
     ]
    }
   ],
   "source": [
    "z = (mean - 50) / (std / sqrt(10))\n",
    "print(\"Nilai z adalah %.3f\" % z)"
   ]
  },
  {
   "cell_type": "markdown",
   "id": "1af2f80f",
   "metadata": {},
   "source": [
    "### 4.3.6. Uji Statistik menolak H₀ karena z = 4.089 > z<sub>α</sub> = 1.960, yang berarti nilai uji berada di daerah kritis.\n",
    "#### Jadi, dapat disimpulkan bahwa hipotesis \"Nilai rata-rata (μ) 20 baris pertama kolom 'SumbuKecil' bukan 50\" benar.\n",
    "Tampilan boxplot:"
   ]
  },
  {
   "cell_type": "code",
   "execution_count": 401,
   "id": "45e9b359",
   "metadata": {},
   "outputs": [
    {
     "data": {
      "image/png": "[encoded data removed]",
      "text/plain": [
       "<Figure size 432x288 with 1 Axes>"
      ]
     },
     "metadata": {
      "needs_background": "light"
     },
     "output_type": "display_data"
    }
   ],
   "source": [
    "fig, ax = plt.subplots()\n",
    "ax.set_title('Sampel \\'SumbuKecil\\'')\n",
    "ax.boxplot(sumbuKecil)\n",
    "plt.show()"
   ]
  },
  {
   "cell_type": "markdown",
   "id": "chubby-overview",
   "metadata": {},
   "source": [
    "## 4.4. Proporsi nilai 'Diameter' yang lebih dari 85, adalah tidak sama dengan 15%\n",
    "### Ambil sampel berupa 100 data pertama pada kolom 'Daerah'\n",
    "### 4.4.1. Ambil nilai hipotesis nol H<sub>0</sub> : p<sub>0</sub> = 0.15\n",
    "### 4.4.2. Ambil nilai hipotesis alternatif H<sub>1</sub> : p<sub>0</sub> ≠ 0.15\n",
    "### 4.4.3. Ambil tingkat signifikan : α = 0.05\n",
    "### 4.4.4. Untuk jenis pengujian, digunakan Uji Statistik Variabel Binomial X didekati Normal dengan p<sub>0</sub> = 0.15;  α = 0.05; n = 100\n",
    "#### Daerah kritis : z < z<sub>0.025</sub> = –1.960 atau z > z<sub>0.025</sub> = 1.960, diperoleh dari P(–1.960 < Z < 1.960) = 0.95\n",
    "### 4.4.5. Uji Statistik\n",
    "### z = (p-p<sub>0</sub>)/sqrt(p<sub>0</sub>*q<sub>0</sub>/n)"
   ]
  },
  {
   "cell_type": "code",
   "execution_count": 402,
   "id": "e278bf53",
   "metadata": {},
   "outputs": [
    {
     "name": "stdout",
     "output_type": "stream",
     "text": [
      "Terdapat 20 buah data dari 100 buah sampel yang nilainya > 85\n"
     ]
    }
   ],
   "source": [
    "n = 100\n",
    "diameter = gandum_df['Diameter'].head(n) # Ambil 100 data pertama dari kolom 'Diameter' sebagai sampel\n",
    "diameterSampel = diameter[diameter > 85] # Ambil data dari sampel yang nilainya > 85\n",
    "print(\"Terdapat \" + str(diameterSampel.count()) + \" buah data dari 100 buah sampel yang nilainya > 85\")"
   ]
  },
  {
   "cell_type": "code",
   "execution_count": 403,
   "id": "protecting-marketplace",
   "metadata": {},
   "outputs": [
    {
     "name": "stdout",
     "output_type": "stream",
     "text": [
      "Nilai z adalah 1.400\n"
     ]
    }
   ],
   "source": [
    "x = 20\n",
    "p0 = 0.15\n",
    "q0 = 1-p0\n",
    "p = x/n\n",
    "z = (p-p0)/sqrt(p0*q0/n)\n",
    "print(\"Nilai z adalah %.3f\" % z)"
   ]
  },
  {
   "cell_type": "code",
   "execution_count": 404,
   "id": "perfect-worship",
   "metadata": {},
   "outputs": [
    {
     "name": "stdout",
     "output_type": "stream",
     "text": [
      "P-Value bernilai 0.1614\n"
     ]
    }
   ],
   "source": [
    "p_value = stats.norm.sf(abs(z))*2 # Cari P-Value untuk Two-Tailed Test\n",
    "print(\"P-Value bernilai %.4f\" % p_value)"
   ]
  },
  {
   "cell_type": "markdown",
   "id": "attractive-preserve",
   "metadata": {},
   "source": [
    "### 4.4.6. Uji Statistik tidak menolak H<sub>0</sub> karena P-Value = 0.1614 > α = 0.05\n",
    "#### Jadi, dapat disimpulkan bahwa hipotesis \"Proporsi nilai 'Diameter' yang lebih dari 85, adalah tidak sama dengan 15%\" tidak benar.\n",
    "Tampilan boxplot:"
   ]
  },
  {
   "cell_type": "code",
   "execution_count": 405,
   "id": "promising-delay",
   "metadata": {},
   "outputs": [
    {
     "data": {
      "image/png": "[encoded data removed]",
      "text/plain": [
       "<Figure size 432x288 with 1 Axes>"
      ]
     },
     "metadata": {
      "needs_background": "light"
     },
     "output_type": "display_data"
    }
   ],
   "source": [
    "fig, ax = plt.subplots()\n",
    "ax.set_title('Sampel \\'Diameter\\'')\n",
    "ax.boxplot(diameter)\n",
    "plt.show()"
   ]
  },
  {
   "cell_type": "markdown",
   "id": "mental-exclusion",
   "metadata": {},
   "source": [
    "## 4.5. Proporsi nilai 'Keliling' yang kurang dari 100, adalah kurang dari 5%\n",
    "### Ambil sampel berupa 100 data pertama pada kolom 'Keliling'\n",
    "### 4.5.1. Ambil nilai hipotesis nol H<sub>0</sub> : p<sub>0</sub> = 0.05\n",
    "### 4.5.2. Ambil nilai hipotesis alternatif H<sub>1</sub> : p<sub>0</sub> < 0.05\n",
    "### 4.5.3. Ambil tingkat signifikan : α = 0.05\n",
    "### 4.5.4. Untuk jenis pengujian, digunakan Uji Statistik Variabel Binomial X didekati Normal dengan p<sub>0</sub> = 0.05; α = 0.05; n = 100\n",
    "#### Daerah kritis : z < -z₀.₀₅ = -1.645, diperoleh dari P(Z < 1.645) = 0.95\n",
    "### 4.5.5. Uji Statistik\n",
    "### z = (p-p<sub>0</sub>)/sqrt(p<sub>0</sub>*q<sub>0</sub>/n)"
   ]
  },
  {
   "cell_type": "code",
   "execution_count": 406,
   "id": "secure-colors",
   "metadata": {},
   "outputs": [
    {
     "name": "stdout",
     "output_type": "stream",
     "text": [
      "Terdapat 0 buah data dari 100 buah sampel yang nilainya < 100\n"
     ]
    }
   ],
   "source": [
    "n = 100\n",
    "keliling = gandum_df['Keliling'].head(n) # Ambil 100 data pertama dari kolom 'Keliling' sebagai sampel\n",
    "kelilingSampel = keliling[keliling < 100] # Ambil data dari sampel yang nilainya < 100\n",
    "print(\"Terdapat \" + str(kelilingSampel.count()) + \" buah data dari 100 buah sampel yang nilainya < 100\")"
   ]
  },
  {
   "cell_type": "code",
   "execution_count": 407,
   "id": "contemporary-screw",
   "metadata": {},
   "outputs": [
    {
     "name": "stdout",
     "output_type": "stream",
     "text": [
      "Nilai z adalah -2.294\n"
     ]
    }
   ],
   "source": [
    "x = 0\n",
    "p0 = 0.05\n",
    "q0 = 1-p0\n",
    "p = x/n\n",
    "z = (p-p0)/sqrt(p0*q0/n)\n",
    "print(\"Nilai z adalah %.3f\" % z)"
   ]
  },
  {
   "cell_type": "markdown",
   "id": "alternative-ottawa",
   "metadata": {},
   "source": [
    "### 4.5.6. Uji Statistik menolak H<sub>0</sub> karena z < z<sub>α</sub> = -1.645, yang berarti nilai uji berada di daerah kritis\n",
    "#### Jadi, dapat disimpulkan bahwa hipotesis \"Proporsi nilai 'Keliling' yang kurang dari 100, adalah kurang dari 5%\" benar.\n",
    "Tampilan boxplot:"
   ]
  },
  {
   "cell_type": "code",
   "execution_count": 409,
   "id": "radical-version",
   "metadata": {},
   "outputs": [
    {
     "data": {
      "image/png": "[encoded data removed]",
      "text/plain": [
       "<Figure size 432x288 with 1 Axes>"
      ]
     },
     "metadata": {
      "needs_background": "light"
     },
     "output_type": "display_data"
    }
   ],
   "source": [
    "fig, ax = plt.subplots()\n",
    "ax.set_title('Sampel \\'Keliling\\'')\n",
    "ax.boxplot(keliling)\n",
    "plt.show()"
   ]
  },
  {
   "cell_type": "markdown",
   "id": "fatal-cliff",
   "metadata": {},
   "source": [
    "# 5. Tes Hipotesis 2 Sampel\n",
    "## 5.1. Data kolom 'AreaBulatan' dibagi 2 sama rata: bagian awal dan bagian akhir kolom.\n",
    "## Benarkah rata-rata kedua bagian tersebut sama?\n",
    "### 5.1.1. Ambil nilai hipotesis nol H<sub>0</sub> : μ<sub>1</sub> - μ<sub>2</sub> = 0\n",
    "### 5.1.2. Ambil nilai hipotesis alternatif H<sub>1</sub> : μ<sub>1</sub> - μ<sub>2</sub> ≠ 0\n",
    "### 5.1.3. Ambil tingkat signifikan : α = 0.05\n",
    "### 5.1.4. Untuk jenis pengujian, digunakan Uji Dua Rataan untuk variansi pertama dan variansi kedua diketahui dengan d<sub>0</sub> = μ<sub>1</sub> - μ<sub>2</sub> = 0\n",
    "#### Daerah kritis : z < z<sub>0.025</sub> = –1.960 atau z > z<sub>0.025</sub> = 1.960, diperoleh dari P(–1.960 < Z < 1.960) = 0.95\n",
    "### 5.1.5. Uji Statistik\n",
    "### z = ((x̄<sub>1</sub> - x̄<sub>2</sub>) - d<sub>0</sub>)/sqrt(σ<sub>1</sub><sup>2</sup>/n<sub>1</sub> + σ<sub>2</sub><sup>2</sup>/n<sub>2</sub>)"
   ]
  },
  {
   "cell_type": "code",
   "execution_count": 35,
   "id": "framed-bristol",
   "metadata": {},
   "outputs": [
    {
     "name": "stdout",
     "output_type": "stream",
     "text": [
      "Sample 1:\n",
      "n1   =  250\n",
      "s1   =  867.0254356176825\n",
      "x̄1  =  5549.804\n",
      "σ1^2 =  751733.1060080321\n"
     ]
    }
   ],
   "source": [
    "# Sampel pertama (Bagian awal data)\n",
    "n1 = 250\n",
    "sample1 = gandum_df['AreaBulatan'].head(n1)\n",
    "s1_std = sample1.std()\n",
    "s1_mean = sample1.mean()\n",
    "s1_var = sample1.var()\n",
    "print(\"Sample 1:\")\n",
    "print(\"n1   = \", 250)\n",
    "print(\"s1   = \", s1_std)\n",
    "print(\"x̄1  = \", s1_mean)\n",
    "print(\"σ1^2 = \", s1_var)"
   ]
  },
  {
   "cell_type": "code",
   "execution_count": 30,
   "id": "cognitive-commodity",
   "metadata": {},
   "outputs": [
    {
     "name": "stdout",
     "output_type": "stream",
     "text": [
      "Sample 2:\n",
      "n2   =  250\n",
      "s2   =  738.5664658199254\n",
      "x̄2  =  4324.292\n",
      "σ2^2 =  545480.424433735\n"
     ]
    }
   ],
   "source": [
    "# Sampel kedua (Bagian akhir data)\n",
    "n2 = 250\n",
    "sample2 = gandum_df['AreaBulatan'].tail(n2)\n",
    "s2_std = sample2.std()\n",
    "s2_mean = sample2.mean()\n",
    "s2_var = sample2.var()\n",
    "print(\"Sample 2:\")\n",
    "print(\"n2   = \", 250)\n",
    "print(\"s2   = \", s2_std)\n",
    "print(\"x̄2  = \", s2_mean)\n",
    "print(\"σ2^2 = \", s2_var)"
   ]
  },
  {
   "cell_type": "code",
   "execution_count": 38,
   "id": "revised-belarus",
   "metadata": {},
   "outputs": [
    {
     "name": "stdout",
     "output_type": "stream",
     "text": [
      "Nilai z adalah 17.010\n"
     ]
    }
   ],
   "source": [
    "#z = ((x̄1 - x̄2) - d0)/(σ12/n1 + σ22/n2)\n",
    "d0 = 0.2\n",
    "z = ((s1_mean - s2_mean) - d0)/sqrt((s1_var/n1) + (s2_var/n2))\n",
    "print(\"Nilai z adalah %.3f\" %z)"
   ]
  },
  {
   "cell_type": "markdown",
   "id": "interested-estate",
   "metadata": {},
   "source": [
    "### 5.1.6. Uji Statistik menolak H<sub>0</sub> karena z > z<sub>α</sub> = 1.960, yang berarti nilai uji berada di daerah kritis\n",
    "#### Jadi, dapat disimpulkan bahwa hipotesis \"Rata-rata kedua bagian data AreaBulatan, yang dibagi sama rata, sama\" benar.\n",
    "Tampilan boxplot:"
   ]
  },
  {
   "cell_type": "code",
   "execution_count": 34,
   "id": "printable-worth",
   "metadata": {},
   "outputs": [
    {
     "data": {
      "image/png": "[encoded data removed]",
      "text/plain": [
       "<Figure size 432x288 with 1 Axes>"
      ]
     },
     "metadata": {
      "needs_background": "light"
     },
     "output_type": "display_data"
    }
   ],
   "source": [
    "samples = [sample1, sample2]\n",
    "fig, ax = plt.subplots()\n",
    "ax.set_title('Perbandingan Kedua Sampel \\'AreaBulatan\\'')\n",
    "ax.boxplot(samples)\n",
    "plt.show()"
   ]
  },
  {
   "cell_type": "markdown",
   "id": "cubic-serbia",
   "metadata": {},
   "source": [
    "## 5.2. Data kolom 'KadarAir' dibagi 2 sama rata: bagian awal dan bagian akhir kolom.\n",
    "## Benarkah rata-rata bagian awal lebih besar dari pada bagian akhir sebesar 0.2?\n",
    "### 5.2.1. Ambil nilai hipotesis nol H<sub>0</sub> : μ<sub>1</sub> - μ<sub>2</sub> = 0.2\n",
    "### 5.2.2. Ambil nilai hipotesis alternatif H<sub>1</sub> : μ<sub>1</sub> - μ<sub>2</sub> > 0.2\n",
    "### 5.2.3. Ambil tingkat signifikan : α = 0.05\n",
    "### 5.2.4. Untuk jenis pengujian, digunakan Uji Dua Rataan untuk variansi pertama dan variansi kedua diketahui dengan d<sub>0</sub> = μ<sub>1</sub> - μ<sub>2</sub> = 2\n",
    "#### Daerah kritis : z > z₀.₀₅ = 1.645, diperoleh dari P(Z < 1.645) = 0.95\n",
    "### 5.2.5. Uji Statistik\n",
    "### z = ((x̄<sub>1</sub> - x̄<sub>2</sub>) - d<sub>0</sub>)/sqrt(σ<sub>1</sub><sup>2</sup>/n<sub>1</sub> + σ<sub>2</sub><sup>2</sup>/n<sub>2</sub>)"
   ]
  },
  {
   "cell_type": "code",
   "execution_count": 415,
   "id": "coordinated-surveillance",
   "metadata": {},
   "outputs": [
    {
     "name": "stdout",
     "output_type": "stream",
     "text": [
      "Sample 1:\n",
      "n1   =  250\n",
      "s1   =  867.0254356176825\n",
      "x̄1  =  5549.804\n",
      "x̄1  =  5549.804\n",
      "σ1^2 =  751733.1060080321\n"
     ]
    }
   ],
   "source": [
    "# Sampel pertama (Bagian awal data)\n",
    "n1 = 250\n",
    "sample1 = gandum_df['AreaBulatan'].head(n1)\n",
    "s1_std = sample1.std()\n",
    "s1_mean = sample1.mean()\n",
    "s1_var = sample1.var()\n",
    "print(\"Sample 1:\")\n",
    "print(\"n1   = \", 250)\n",
    "print(\"s1   = \", s1_std)\n",
    "print(\"x̄1  = \", s1_mean)\n",
    "print(\"x̄1  = \", s1_mean)\n",
    "print(\"σ1^2 = \", s1_var)"
   ]
  },
  {
   "cell_type": "code",
   "execution_count": 416,
   "id": "alleged-bachelor",
   "metadata": {},
   "outputs": [
    {
     "name": "stdout",
     "output_type": "stream",
     "text": [
      "Sample 2:\n",
      "n2   =  250\n",
      "s2   =  738.5664658199254\n",
      "x̄2  =  4324.292\n",
      "σ2^2 =  545480.424433735\n"
     ]
    }
   ],
   "source": [
    "# Sampel kedua (Bagian akhir data)\n",
    "n2 = 250\n",
    "sample2 = gandum_df['AreaBulatan'].tail(n2)\n",
    "s2_std = sample2.std()\n",
    "s2_mean = sample2.mean()\n",
    "s2_var = sample2.var()\n",
    "print(\"Sample 2:\")\n",
    "print(\"n2   = \", 250)\n",
    "print(\"s2   = \", s2_std)\n",
    "print(\"x̄2  = \", s2_mean)\n",
    "print(\"σ2^2 = \", s2_var)"
   ]
  },
  {
   "cell_type": "code",
   "execution_count": 39,
   "id": "digital-france",
   "metadata": {},
   "outputs": [
    {
     "name": "stdout",
     "output_type": "stream",
     "text": [
      "Nilai z adalah 17.013\n"
     ]
    }
   ],
   "source": [
    "d0 = 0\n",
    "z = ((s1_mean - s2_mean) - d0)/sqrt((s1_var/n1) + (s2_var/n2))\n",
    "print(\"Nilai z adalah %.3f\" %z)"
   ]
  },
  {
   "cell_type": "markdown",
   "id": "underlying-joseph",
   "metadata": {},
   "source": [
    "### 5.2.6. Uji Statistik menolak H<sub>0</sub> karena z > z<sub>α</sub> = 1.645, yang berarti nilai uji berada di daerah kritis\n",
    "#### Jadi, dapat disimpulkan bahwa hipotesis \"Rata-rata bagian awal data 'KadarAir' lebih besar daripada bagian akhir data tersebut sebesar 0.2\" benar.\n",
    "Tampilan boxplot:"
   ]
  },
  {
   "cell_type": "code",
   "execution_count": 419,
   "id": "right-brave",
   "metadata": {},
   "outputs": [
    {
     "data": {
      "image/png": "[encoded data removed]",
      "text/plain": [
       "<Figure size 432x288 with 1 Axes>"
      ]
     },
     "metadata": {
      "needs_background": "light"
     },
     "output_type": "display_data"
    }
   ],
   "source": [
    "samples = [sample1, sample2]\n",
    "fig, ax = plt.subplots()\n",
    "ax.set_title('Perbandingan Kedua Sampel \\'KadarAir\\'')\n",
    "ax.boxplot(samples)\n",
    "plt.show()"
   ]
  },
  {
   "cell_type": "markdown",
   "id": "blind-dairy",
   "metadata": {},
   "source": [
    "## 5.3. Rata-rata 20 baris pertama kolom 'Bulatan' sama dengan 20 baris terakhirnya\n",
    "### 5.3.1. Ambil nilai hipotesis nol H<sub>0</sub> : μ<sub>1</sub> - μ<sub>2</sub> = 0\n",
    "### 5.3.2. Ambil nilai hipotesis alternatif H<sub>1</sub> : μ<sub>1</sub> - μ<sub>2</sub> ≠ 0\n",
    "### 5.3.3. Ambil tingkat signifikan : α = 0.05\n",
    "### 5.3.4. Untuk jenis pengujian, digunakan Uji Dua Rataan untuk variansi pertama dan variansi kedua diketahui dengan d<sub>0</sub> = μ<sub>1</sub> - μ<sub>2</sub> = 0\n",
    "#### Daerah kritis : z < z<sub>0.025</sub> = –1.960 atau z > z<sub>0.025</sub> = 1.960, diperoleh dari P(–1.960 < Z < 1.960) = 0.95\n",
    "### 5.3.5. Uji Statistik\n",
    "### z = ((x̄<sub>1</sub> - x̄<sub>2</sub>) - d<sub>0</sub>)/sqrt(σ<sub>1</sub><sup>2</sup>/n<sub>1</sub> + σ<sub>2</sub><sup>2</sup>/n<sub>2</sub>)"
   ]
  },
  {
   "cell_type": "code",
   "execution_count": 40,
   "id": "latter-subject",
   "metadata": {},
   "outputs": [
    {
     "name": "stdout",
     "output_type": "stream",
     "text": [
      "Sample 1:\n",
      "n1   =  20\n",
      "s1   =  0.03038477583561706\n",
      "x̄1  =  0.7375353552500001\n",
      "x̄1  =  0.7375353552500001\n",
      "σ1^2 =  0.0009232346025806985\n"
     ]
    }
   ],
   "source": [
    "# Sampel pertama (Bagian awal data)\n",
    "n1 = 20\n",
    "sample1 = gandum_df['Bulatan'].head(n1)\n",
    "s1_std = sample1.std()\n",
    "s1_mean = sample1.mean()\n",
    "s1_var = sample1.var()\n",
    "print(\"Sample 1:\")\n",
    "print(\"n1   = \", n1)\n",
    "print(\"s1   = \", s1_std)\n",
    "print(\"x̄1  = \", s1_mean)\n",
    "print(\"x̄1  = \", s1_mean)\n",
    "print(\"σ1^2 = \", s1_var)"
   ]
  },
  {
   "cell_type": "code",
   "execution_count": 41,
   "id": "vocal-pharmacology",
   "metadata": {},
   "outputs": [
    {
     "name": "stdout",
     "output_type": "stream",
     "text": [
      "Sample 2:\n",
      "n2   =  20\n",
      "s2   =  0.025115057347653763\n",
      "x̄2  =  0.7673224369999999\n",
      "σ2^2 =  0.0006307661055759373\n"
     ]
    }
   ],
   "source": [
    "# Sampel kedua (Bagian akhir data)\n",
    "n2 = 20\n",
    "sample2 = gandum_df['Bulatan'].tail(n2)\n",
    "s2_std = sample2.std()\n",
    "s2_mean = sample2.mean()\n",
    "s2_var = sample2.var()\n",
    "print(\"Sample 2:\")\n",
    "print(\"n2   = \", n2)\n",
    "print(\"s2   = \", s2_std)\n",
    "print(\"x̄2  = \", s2_mean)\n",
    "print(\"σ2^2 = \", s2_var)"
   ]
  },
  {
   "cell_type": "code",
   "execution_count": 42,
   "id": "extensive-blackjack",
   "metadata": {},
   "outputs": [
    {
     "name": "stdout",
     "output_type": "stream",
     "text": [
      "Nilai z adalah -3.379\n"
     ]
    }
   ],
   "source": [
    "d0 = 0\n",
    "z = ((s1_mean - s2_mean) - d0)/sqrt((s1_var/n1) + (s2_var/n2))\n",
    "print(\"Nilai z adalah %.3f\" %z)"
   ]
  },
  {
   "cell_type": "markdown",
   "id": "plain-helping",
   "metadata": {},
   "source": [
    "### 5.3.6. Uji Statistik menolak H<sub>0</sub> karena z < z<sub>α</sub> = -1.645, yang berarti nilai uji berada di daerah kritis\n",
    "#### Jadi, dapat disimpulkan bahwa hipotesis \"Rata-rata 20 baris pertama kolom 'Bulatan' sama dengan 20 baris terakhirnya\" tidak benar.\n",
    "Tampilan boxplot:"
   ]
  },
  {
   "cell_type": "code",
   "execution_count": 425,
   "id": "loved-tract",
   "metadata": {},
   "outputs": [
    {
     "data": {
      "image/png": "[encoded data removed]",
      "text/plain": [
       "<Figure size 432x288 with 1 Axes>"
      ]
     },
     "metadata": {
      "needs_background": "light"
     },
     "output_type": "display_data"
    }
   ],
   "source": [
    "samples = [sample1, sample2]\n",
    "fig, ax = plt.subplots()\n",
    "ax.set_title('Perbandingan Kedua Sampel \\'Bulatan\\'')\n",
    "ax.boxplot(samples)\n",
    "plt.show()"
   ]
  },
  {
   "cell_type": "markdown",
   "id": "hindu-butler",
   "metadata": {},
   "source": [
    "## 5.4. Proporsi nilai bagian awal 'Ransum' yang lebih dari 2 lebih besar daripada proporsi nilai yang sama di bagian akhir 'Ransum'\n",
    "### Ambil 250 data pada bagian awal dan 250 data pada bagian akhir kolom 'Ransum' sebagai sampel\n",
    "### 5.4.1. Ambil nilai hipotesis nol H<sub>0</sub> : p<sub>1</sub> - p<sub>2</sub> = 0\n",
    "### 5.4.2. Ambil nilai hipotesis alternatif H<sub>1</sub> : p<sub>1</sub> - p<sub>2</sub> > 0\n",
    "### 5.4.3. Ambil tingkat signifikan : α = 0.05\n",
    "### 5.4.4. Untuk jenis pengujian, digunakan Uji Dua Proporsi menggunakan Uji Statistik Normal\n",
    "#### Daerah kritis : z > z₀.₀₅ = 1.645, diperoleh dari P(Z < 1.645) = 0.95\n",
    "### 5.4.5. Uji Statistik\n",
    "### z = (p<sub>1</sub> - p<sub>2</sub>)/sqrt(pq(1/n<sub>1</sub> + 1/n<sub>2</sub>))"
   ]
  },
  {
   "cell_type": "code",
   "execution_count": 43,
   "id": "monthly-singer",
   "metadata": {},
   "outputs": [
    {
     "name": "stdout",
     "output_type": "stream",
     "text": [
      "Nilai z adalah 13.397\n"
     ]
    }
   ],
   "source": [
    "n1 = 250\n",
    "n2 = 250\n",
    "sampel1 = gandum_df['Ransum'].head(n1) # Ambil sampel 250 data pertama\n",
    "sampel2 = gandum_df['Ransum'].tail(n2) # Ambil sampel 250 data terakhir\n",
    "# Ambil data yang nilainya lebih dari 2 sesuai prasyarat\n",
    "x1 = sampel1[sampel1 > 2]\n",
    "x2 = sampel2[sampel2 > 2]\n",
    "# Hitung proporsi tiap sampel\n",
    "p1 = x1.count()/n1\n",
    "p2 = x2.count()/n2\n",
    "# Hitung p dan q\n",
    "p = (x1.count()+x2.count())/(n1+n2)\n",
    "q = 1-p\n",
    "# Hitung z\n",
    "z = (p1-p2)/sqrt(p*q*(1/n1 + 1/n2))\n",
    "print(\"Nilai z adalah %.3f\" %z)"
   ]
  },
  {
   "cell_type": "markdown",
   "id": "collected-thong",
   "metadata": {},
   "source": [
    "### 5.4.6. Uji Statistik menolak H<sub>0</sub> karena z > z<sub>α</sub> = 1.645, yang berarti nilai uji berada di daerah kritis\n",
    "#### Jadi, dapat disimpulkan bahwa hipotesis \"Proporsi nilai bagian awal 'Ransum' yang lebih dari 2 lebih besar daripada proporsi nilai yang sama di bagian akhir 'Ransum'\" benar.\n",
    "Tampilan boxplot:"
   ]
  },
  {
   "cell_type": "code",
   "execution_count": 428,
   "id": "knowing-cleaning",
   "metadata": {},
   "outputs": [
    {
     "data": {
      "image/png": "[encoded data removed]",
      "text/plain": [
       "<Figure size 432x288 with 1 Axes>"
      ]
     },
     "metadata": {
      "needs_background": "light"
     },
     "output_type": "display_data"
    }
   ],
   "source": [
    "samples = [x1, x2]\n",
    "fig, ax = plt.subplots()\n",
    "ax.set_title('Perbandingan Kedua Sampel \\'Ransum\\'')\n",
    "ax.boxplot(samples)\n",
    "plt.show()"
   ]
  },
  {
   "cell_type": "markdown",
   "id": "worse-offering",
   "metadata": {},
   "source": [
    "## 5.5. Bagian awal kolom 'Diameter' memiliki variansi yang sama dengan bagian akhirnya\n",
    "### Ambil 100 data pada bagian awal dan 100 data pada bagian akhir kolom 'Ransum' sebagai sampel\n",
    "### 5.5.1. Ambil nilai hipotesis nol H<sub>0</sub> : σ<sub>1</sub><sup>2</sup> = σ<sub>2</sub><sup>2</sup>\n",
    "### 5.5.2. Ambil nilai hipotesis alternatif H<sub>1</sub> : σ<sub>1</sub><sup>2</sup> ≠ σ<sub>2</sub><sup>2</sup>\n",
    "### 5.5.3. Ambil tingkat signifikan : α = 0.05\n",
    "### 5.5.4. Untuk jenis pengujian, digunakan Uji Dua Variansi menggunakan Distribusi F"
   ]
  },
  {
   "cell_type": "code",
   "execution_count": 429,
   "id": "activated-suspect",
   "metadata": {},
   "outputs": [
    {
     "name": "stdout",
     "output_type": "stream",
     "text": [
      "Daerah kritis : f < f₀.₇₅(249, 249) = 0.9180 dan f > f₀.₂₅(249, 249) = 1.0894\n"
     ]
    }
   ],
   "source": [
    "f1 = stats.f.ppf(q=.25, dfn=249, dfd=249)\n",
    "f2 = stats.f.ppf(q=1-.25, dfn=249, dfd=249)\n",
    "print('Daerah kritis : f < f₀.₇₅(249, 249) = %.4f dan f > f₀.₂₅(249, 249) = %.4f' %(f1, f2))"
   ]
  },
  {
   "cell_type": "markdown",
   "id": "interstate-vertex",
   "metadata": {},
   "source": [
    "### 5.5.5. Uji Statistik\n",
    "### f = s<sub>1</sub><sup>2</sup>/s<sub>2</sub><sup>2</sup>"
   ]
  },
  {
   "cell_type": "code",
   "execution_count": 430,
   "id": "underlying-sponsorship",
   "metadata": {},
   "outputs": [],
   "source": [
    "sample1 = gandum_df['Diameter'].head(250)\n",
    "sample2 = gandum_df['Diameter'].tail(250)\n",
    "s1_var = sample1.var()\n",
    "s2_var = sample2.var()"
   ]
  },
  {
   "cell_type": "code",
   "execution_count": 431,
   "id": "extraordinary-flashing",
   "metadata": {},
   "outputs": [
    {
     "name": "stdout",
     "output_type": "stream",
     "text": [
      "1.0839\n"
     ]
    }
   ],
   "source": [
    "f = s1_var/s2_var\n",
    "print('%.4f' %f)"
   ]
  },
  {
   "cell_type": "markdown",
   "id": "further-earth",
   "metadata": {},
   "source": [
    "### 5.5.6. Uji Statistik tidak menolak H<sub>0</sub> karena nilai-f tidak berada di dalam daerah kritis\n",
    "#### Jadi, dapat disimpulkan bahwa hipotesis \"Bagian awal kolom 'Diameter' memiliki variansi yang sama dengan bagian akhirnya\" benar.\n",
    "Tampilan boxplot:"
   ]
  },
  {
   "cell_type": "code",
   "execution_count": 432,
   "id": "sitting-british",
   "metadata": {},
   "outputs": [
    {
     "data": {
      "image/png": "[encoded data removed]",
      "text/plain": [
       "<Figure size 432x288 with 1 Axes>"
      ]
     },
     "metadata": {
      "needs_background": "light"
     },
     "output_type": "display_data"
    }
   ],
   "source": [
    "samples = [sample1, sample2]\n",
    "fig, ax = plt.subplots()\n",
    "ax.set_title('Perbandingan Kedua Sampel \\'Diameter\\'')\n",
    "ax.boxplot(samples)\n",
    "plt.show()"
   ]
  },
  {
   "cell_type": "markdown",
   "id": "01977a5b",
   "metadata": {},
   "source": [
    "# 6. Test Korelasi \n",
    "## Tentukan apakah setiap kolom nontarget berkorelasi dengan kolom target.\n",
    "\n",
    "## 6.1. Kolom nontarget 'Daerah'"
   ]
  },
  {
   "cell_type": "code",
   "execution_count": 433,
   "id": "cc1b6f24",
   "metadata": {},
   "outputs": [
    {
     "data": {
      "text/plain": [
       "-0.6027466517416661"
      ]
     },
     "execution_count": 433,
     "metadata": {},
     "output_type": "execute_result"
    }
   ],
   "source": [
    "gandum_df[\"Daerah\"].corr(gandum_df[\"Kelas\"])"
   ]
  },
  {
   "cell_type": "code",
   "execution_count": 434,
   "id": "8706e65f",
   "metadata": {},
   "outputs": [
    {
     "data": {
      "text/plain": [
       "<AxesSubplot:xlabel='Daerah', ylabel='Kelas'>"
      ]
     },
     "execution_count": 434,
     "metadata": {},
     "output_type": "execute_result"
    },
    {
     "data": {
      "image/png": "[encoded data removed]",
      "text/plain": [
       "<Figure size 432x288 with 1 Axes>"
      ]
     },
     "metadata": {
      "needs_background": "light"
     },
     "output_type": "display_data"
    }
   ],
   "source": [
    "gandum_df.plot(kind=\"scatter\", x=\"Daerah\", y=\"Kelas\")"
   ]
  },
  {
   "cell_type": "markdown",
   "id": "d615f582",
   "metadata": {},
   "source": [
    "### Kolom nontarget 'Daerah' dan kolom target 'Kelas' berkorelasi terbalik (<i>strong negative relationship</i>) karena koefisien relasinya –0.6027 yang semakin mendekati -1."
   ]
  },
  {
   "cell_type": "markdown",
   "id": "12d2f14a",
   "metadata": {},
   "source": [
    "## 6.2. Kolom nontarget 'SumbuUtama'"
   ]
  },
  {
   "cell_type": "code",
   "execution_count": 435,
   "id": "acead6ed",
   "metadata": {},
   "outputs": [
    {
     "data": {
      "text/plain": [
       "-0.7130906104204592"
      ]
     },
     "execution_count": 435,
     "metadata": {},
     "output_type": "execute_result"
    }
   ],
   "source": [
    "gandum_df[\"SumbuUtama\"].corr(gandum_df[\"Kelas\"])"
   ]
  },
  {
   "cell_type": "code",
   "execution_count": 436,
   "id": "8de5a531",
   "metadata": {},
   "outputs": [
    {
     "data": {
      "text/plain": [
       "<AxesSubplot:xlabel='SumbuUtama', ylabel='Kelas'>"
      ]
     },
     "execution_count": 436,
     "metadata": {},
     "output_type": "execute_result"
    },
    {
     "data": {
      "image/png": "[encoded data removed]",
      "text/plain": [
       "<Figure size 432x288 with 1 Axes>"
      ]
     },
     "metadata": {
      "needs_background": "light"
     },
     "output_type": "display_data"
    }
   ],
   "source": [
    "gandum_df.plot(kind=\"scatter\", x=\"SumbuUtama\", y=\"Kelas\")"
   ]
  },
  {
   "cell_type": "markdown",
   "id": "2f331cd9",
   "metadata": {},
   "source": [
    "### Kolom nontarget 'SumbuUtama' dan kolom target 'Kelas' berkorelasi terbalik (<i>strong negative relationship</i>) karena koefisien relasinya –0.7131 yang semakin mendekati –1."
   ]
  },
  {
   "cell_type": "markdown",
   "id": "369add7b",
   "metadata": {},
   "source": [
    "## 6.3. Kolom nontarget 'SumbuKecil'"
   ]
  },
  {
   "cell_type": "code",
   "execution_count": 437,
   "id": "0b3678bc",
   "metadata": {},
   "outputs": [
    {
     "data": {
      "text/plain": [
       "-0.15297517335535016"
      ]
     },
     "execution_count": 437,
     "metadata": {},
     "output_type": "execute_result"
    }
   ],
   "source": [
    "gandum_df[\"SumbuKecil\"].corr(gandum_df[\"Kelas\"])"
   ]
  },
  {
   "cell_type": "code",
   "execution_count": 438,
   "id": "b21c95a8",
   "metadata": {},
   "outputs": [
    {
     "data": {
      "text/plain": [
       "<AxesSubplot:xlabel='SumbuKecil', ylabel='Kelas'>"
      ]
     },
     "execution_count": 438,
     "metadata": {},
     "output_type": "execute_result"
    },
    {
     "data": {
      "image/png": "[encoded data removed]",
      "text/plain": [
       "<Figure size 432x288 with 1 Axes>"
      ]
     },
     "metadata": {
      "needs_background": "light"
     },
     "output_type": "display_data"
    }
   ],
   "source": [
    "gandum_df.plot(kind=\"scatter\", x=\"SumbuKecil\", y=\"Kelas\")"
   ]
  },
  {
   "cell_type": "markdown",
   "id": "fdf28c30",
   "metadata": {},
   "source": [
    "### Kolom nontarget 'SumbuKecil' dan kolom target 'Kelas' tidak berkorelasi karena koefisien relasinya –0.1530 yang semakin mendekati 0."
   ]
  },
  {
   "cell_type": "markdown",
   "id": "635a3f50",
   "metadata": {},
   "source": [
    "## 6.4. Kolom nontarget 'Keunikan' "
   ]
  },
  {
   "cell_type": "code",
   "execution_count": 439,
   "id": "32a967a4",
   "metadata": {},
   "outputs": [
    {
     "data": {
      "text/plain": [
       "-0.7304563686511923"
      ]
     },
     "execution_count": 439,
     "metadata": {},
     "output_type": "execute_result"
    }
   ],
   "source": [
    "gandum_df[\"Keunikan\"].corr(gandum_df[\"Kelas\"])"
   ]
  },
  {
   "cell_type": "code",
   "execution_count": 440,
   "id": "d07a6431",
   "metadata": {},
   "outputs": [
    {
     "data": {
      "text/plain": [
       "<AxesSubplot:xlabel='Keunikan', ylabel='Kelas'>"
      ]
     },
     "execution_count": 440,
     "metadata": {},
     "output_type": "execute_result"
    },
    {
     "data": {
      "image/png": "[encoded data removed]",
      "text/plain": [
       "<Figure size 432x288 with 1 Axes>"
      ]
     },
     "metadata": {
      "needs_background": "light"
     },
     "output_type": "display_data"
    }
   ],
   "source": [
    " gandum_df.plot(kind=\"scatter\", x=\"Keunikan\", y=\"Kelas\")"
   ]
  },
  {
   "cell_type": "markdown",
   "id": "4635104b",
   "metadata": {},
   "source": [
    "### Kolom nontarget 'Keunikan' dan kolom target 'Kelas' berkorelasi terbalik (<i>strong negative relationship</i>) karena koefisien relasinya –0.7305 yang semakin mendekati –1."
   ]
  },
  {
   "cell_type": "markdown",
   "id": "0c075855",
   "metadata": {},
   "source": [
    "## 6.5. Kolom nontarget 'AreaBulatan'"
   ]
  },
  {
   "cell_type": "code",
   "execution_count": 441,
   "id": "043a606b",
   "metadata": {},
   "outputs": [
    {
     "data": {
      "text/plain": [
       "-0.6073125434153749"
      ]
     },
     "execution_count": 441,
     "metadata": {},
     "output_type": "execute_result"
    }
   ],
   "source": [
    "gandum_df[\"AreaBulatan\"].corr(gandum_df[\"Kelas\"])"
   ]
  },
  {
   "cell_type": "code",
   "execution_count": 442,
   "id": "ae23e74f",
   "metadata": {},
   "outputs": [
    {
     "data": {
      "text/plain": [
       "<AxesSubplot:xlabel='AreaBulatan', ylabel='Kelas'>"
      ]
     },
     "execution_count": 442,
     "metadata": {},
     "output_type": "execute_result"
    },
    {
     "data": {
      "image/png": "[encoded data removed]",
      "text/plain": [
       "<Figure size 432x288 with 1 Axes>"
      ]
     },
     "metadata": {
      "needs_background": "light"
     },
     "output_type": "display_data"
    }
   ],
   "source": [
    " gandum_df.plot(kind=\"scatter\", x=\"AreaBulatan\", y=\"Kelas\")"
   ]
  },
  {
   "cell_type": "markdown",
   "id": "8a76b82f",
   "metadata": {},
   "source": [
    "### Kolom nontarget 'AreaBulatan' dan kolom target 'Kelas' berkorelasi terbalik (<i>strong negative relationship</i>) karena koefisien relasinya –0.6073 yang semakin mendekati –1."
   ]
  },
  {
   "cell_type": "markdown",
   "id": "f3031384",
   "metadata": {},
   "source": [
    "## 6.6. Kolom nontarget 'Diameter'"
   ]
  },
  {
   "cell_type": "code",
   "execution_count": 443,
   "id": "28636326",
   "metadata": {},
   "outputs": [
    {
     "data": {
      "text/plain": [
       "-0.6025356896618808"
      ]
     },
     "execution_count": 443,
     "metadata": {},
     "output_type": "execute_result"
    }
   ],
   "source": [
    "gandum_df[\"Diameter\"].corr(gandum_df[\"Kelas\"])"
   ]
  },
  {
   "cell_type": "code",
   "execution_count": 444,
   "id": "7f602d9c",
   "metadata": {},
   "outputs": [
    {
     "data": {
      "text/plain": [
       "<AxesSubplot:xlabel='Diameter', ylabel='Kelas'>"
      ]
     },
     "execution_count": 444,
     "metadata": {},
     "output_type": "execute_result"
    },
    {
     "data": {
      "image/png": "[encoded data removed]",
      "text/plain": [
       "<Figure size 432x288 with 1 Axes>"
      ]
     },
     "metadata": {
      "needs_background": "light"
     },
     "output_type": "display_data"
    }
   ],
   "source": [
    "gandum_df.plot(kind=\"scatter\", x=\"Diameter\", y=\"Kelas\")"
   ]
  },
  {
   "cell_type": "markdown",
   "id": "72e57b52",
   "metadata": {},
   "source": [
    "### Kolom nontarget 'Diameter' dan kolom target 'Kelas' berkorelasi terbalik (<i>strong negative relationship</i>) karena koefisien relasinya –0.6025 yang semakin mendekati –1."
   ]
  },
  {
   "cell_type": "markdown",
   "id": "f1a495a1",
   "metadata": {},
   "source": [
    "## 6.7. Kolom nontarget 'KadarAir'"
   ]
  },
  {
   "cell_type": "code",
   "execution_count": 445,
   "id": "3835aad4",
   "metadata": {},
   "outputs": [
    {
     "data": {
      "text/plain": [
       "0.13434422605727642"
      ]
     },
     "execution_count": 445,
     "metadata": {},
     "output_type": "execute_result"
    }
   ],
   "source": [
    "gandum_df[\"KadarAir\"].corr(gandum_df[\"Kelas\"])"
   ]
  },
  {
   "cell_type": "code",
   "execution_count": 446,
   "id": "79621906",
   "metadata": {},
   "outputs": [
    {
     "data": {
      "text/plain": [
       "<AxesSubplot:xlabel='KadarAir', ylabel='Kelas'>"
      ]
     },
     "execution_count": 446,
     "metadata": {},
     "output_type": "execute_result"
    },
    {
     "data": {
      "image/png": "[encoded data removed]",
      "text/plain": [
       "<Figure size 432x288 with 1 Axes>"
      ]
     },
     "metadata": {
      "needs_background": "light"
     },
     "output_type": "display_data"
    }
   ],
   "source": [
    "gandum_df.plot(kind=\"scatter\", x=\"KadarAir\", y=\"Kelas\")"
   ]
  },
  {
   "cell_type": "markdown",
   "id": "144a20cd",
   "metadata": {},
   "source": [
    "### Kolom nontarget 'KadarAir' dan kolom target 'Kelas' tidak berkorelasi karena koefisien relasinya 0.1343 yang semakin mendekati 0."
   ]
  },
  {
   "cell_type": "markdown",
   "id": "7b3c2389",
   "metadata": {},
   "source": [
    "## 6.8. Kolom nontarget 'Keliling'"
   ]
  },
  {
   "cell_type": "code",
   "execution_count": 447,
   "id": "1aab51e9",
   "metadata": {},
   "outputs": [
    {
     "data": {
      "text/plain": [
       "-0.6348607454756854"
      ]
     },
     "execution_count": 447,
     "metadata": {},
     "output_type": "execute_result"
    }
   ],
   "source": [
    "gandum_df[\"Keliling\"].corr(gandum_df[\"Kelas\"])"
   ]
  },
  {
   "cell_type": "code",
   "execution_count": 448,
   "id": "8db92299",
   "metadata": {},
   "outputs": [
    {
     "data": {
      "text/plain": [
       "<AxesSubplot:xlabel='Keliling', ylabel='Kelas'>"
      ]
     },
     "execution_count": 448,
     "metadata": {},
     "output_type": "execute_result"
    },
    {
     "data": {
      "image/png": "[encoded data removed]",
      "text/plain": [
       "<Figure size 432x288 with 1 Axes>"
      ]
     },
     "metadata": {
      "needs_background": "light"
     },
     "output_type": "display_data"
    }
   ],
   "source": [
    "gandum_df.plot(kind=\"scatter\", x=\"Keliling\", y=\"Kelas\")"
   ]
  },
  {
   "cell_type": "markdown",
   "id": "2f596bc6",
   "metadata": {},
   "source": [
    "### Kolom nontarget 'Keliling' dan kolom target 'Kelas' berkorelasi terbalik (<i>strong negative relationship</i>) karena koefisien relasinya –0.6349 yang semakin mendekati –1."
   ]
  },
  {
   "cell_type": "markdown",
   "id": "5fe54f5a",
   "metadata": {},
   "source": [
    "## 6.9. Kolom nontarget 'Bulatan'"
   ]
  },
  {
   "cell_type": "code",
   "execution_count": 449,
   "id": "a55b9ed0",
   "metadata": {},
   "outputs": [
    {
     "data": {
      "text/plain": [
       "0.5450045317240071"
      ]
     },
     "execution_count": 449,
     "metadata": {},
     "output_type": "execute_result"
    }
   ],
   "source": [
    "gandum_df[\"Bulatan\"].corr(gandum_df[\"Kelas\"])"
   ]
  },
  {
   "cell_type": "code",
   "execution_count": 450,
   "id": "1a87d10a",
   "metadata": {},
   "outputs": [
    {
     "data": {
      "text/plain": [
       "<AxesSubplot:xlabel='Bulatan', ylabel='Kelas'>"
      ]
     },
     "execution_count": 450,
     "metadata": {},
     "output_type": "execute_result"
    },
    {
     "data": {
      "image/png": "[encoded data removed]",
      "text/plain": [
       "<Figure size 432x288 with 1 Axes>"
      ]
     },
     "metadata": {
      "needs_background": "light"
     },
     "output_type": "display_data"
    }
   ],
   "source": [
    "gandum_df.plot(kind=\"scatter\", x=\"Bulatan\", y=\"Kelas\")"
   ]
  },
  {
   "cell_type": "markdown",
   "id": "6abdc10a",
   "metadata": {},
   "source": [
    "### Kolom nontarget 'Bulatan' dan kolom target 'Kelas' berkorelasi searah/lurus (<i>strong positive relationship</i>) karena koefisien relasinya 0.5450 yang semakin mendekati 1."
   ]
  },
  {
   "cell_type": "markdown",
   "id": "122212b0",
   "metadata": {},
   "source": [
    "## 6.10. Kolom nontarget 'Ransum'"
   ]
  },
  {
   "cell_type": "code",
   "execution_count": 451,
   "id": "950f560c",
   "metadata": {},
   "outputs": [
    {
     "data": {
      "text/plain": [
       "-0.8399038681287484"
      ]
     },
     "execution_count": 451,
     "metadata": {},
     "output_type": "execute_result"
    }
   ],
   "source": [
    "gandum_df[\"Ransum\"].corr(gandum_df[\"Kelas\"])"
   ]
  },
  {
   "cell_type": "code",
   "execution_count": 452,
   "id": "8de2f24b",
   "metadata": {},
   "outputs": [
    {
     "data": {
      "text/plain": [
       "<AxesSubplot:xlabel='Ransum', ylabel='Kelas'>"
      ]
     },
     "execution_count": 452,
     "metadata": {},
     "output_type": "execute_result"
    },
    {
     "data": {
      "image/png": "[encoded data removed]",
      "text/plain": [
       "<Figure size 432x288 with 1 Axes>"
      ]
     },
     "metadata": {
      "needs_background": "light"
     },
     "output_type": "display_data"
    }
   ],
   "source": [
    "gandum_df.plot(kind=\"scatter\", x=\"Ransum\", y=\"Kelas\")"
   ]
  },
  {
   "cell_type": "markdown",
   "id": "3ebeeb0c",
   "metadata": {},
   "source": [
    "### Kolom nontarget 'Ransum' dan kolom target 'Kelas' berkorelasi terbalik (<i>strong negative relationship</i>) karena koefisien relasinya –0.8399 yang semakin mendekati –1."
   ]
  },
  {
   "cell_type": "code",
   "execution_count": null,
   "id": "7a9b96d3",
   "metadata": {},
   "outputs": [],
   "source": []
  }
 ],
 "metadata": {
  "kernelspec": {
   "display_name": "Python 3",
   "language": "python",
   "name": "python3"
  },
  "language_info": {
   "codemirror_mode": {
    "name": "ipython",
    "version": 3
   },
   "file_extension": ".py",
   "mimetype": "text/x-python",
   "name": "python",
   "nbconvert_exporter": "python",
   "pygments_lexer": "ipython3",
   "version": "3.9.0"
  }
 },
 "nbformat": 4,
 "nbformat_minor": 5
}
